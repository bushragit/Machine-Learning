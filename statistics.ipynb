{
 "cells": [
  {
   "cell_type": "markdown",
   "id": "d830d27d",
   "metadata": {
    "papermill": {
     "duration": 0.005717,
     "end_time": "2025-02-02T17:54:17.469756",
     "exception": false,
     "start_time": "2025-02-02T17:54:17.464039",
     "status": "completed"
    },
    "tags": []
   },
   "source": [
    "### Types of data:\n",
    "Categorical: car types , Gender  \n",
    "Numerical:  \n",
    "1. Discrete\n",
    "2. Continuous\n",
    "\n",
    "Feature\tContinuous Data\tDiscrete Data\n",
    "\n",
    "| Feature               | Continuous Data                                      | Discrete Data                                       |\n",
    "|-----------------------|------------------------------------------------------|-----------------------------------------------------|\n",
    "| **Definition**        | Data that can take any value within a given range    | Data that can only take specific, separate values  |\n",
    "| **Nature**           | Measured                                             | Counted                                            |\n",
    "| **Possible Values**  | Infinite (within a range)                            | Finite or countably infinite                       |\n",
    "| **Examples**         | Height (e.g., 5.7 feet), Temperature (e.g., 36.5°C), Time (e.g., 2.45 seconds) | Number of students in a class (e.g., 30), Number of cars in a parking lot (e.g., 15) |\n",
    "| **Graph Representation** | Smooth curves (continuous functions)              | Bar charts or step graphs (discrete points)       |\n"
   ]
  },
  {
   "cell_type": "markdown",
   "id": "e3b0643c",
   "metadata": {
    "papermill": {
     "duration": 0.00399,
     "end_time": "2025-02-02T17:54:17.479869",
     "exception": false,
     "start_time": "2025-02-02T17:54:17.475879",
     "status": "completed"
    },
    "tags": []
   },
   "source": [
    "### Level of Measurements:\n",
    "#### Qualitative:\n",
    "Ordinal: Low, Medium, High  \n",
    "Nominal: Winter,Autumn,Spring,Summer\n",
    "\n",
    "#### Quantitative:\n",
    "Ratio: Height, Weight, Age, Distance, Salary, Time (in seconds)  \n",
    "Interval:Temperature (°C, °F), IQ, Years  \n",
    "\n",
    "| Feature                         | Interval                           | Ratio                                      |\n",
    "|---------------------------------|-----------------------------------|--------------------------------------------|\n",
    "| **Equal Intervals?**            | ✅ Yes                             | ✅ Yes                                     |\n",
    "| **Has a True Zero?**            | ❌ No                              | ✅ Yes                                     |\n",
    "| **Can Do Multiplication & Division?** | ❌ No                      | ✅ Yes                                     |\n",
    "| **Examples**                    | Temperature (°C, °F), IQ, Years   | Height, Weight, Age, Distance, Salary, Time (in seconds) |\n",
    "\n"
   ]
  },
  {
   "cell_type": "markdown",
   "id": "6e3ea164",
   "metadata": {
    "papermill": {
     "duration": 0.004806,
     "end_time": "2025-02-02T17:54:17.494110",
     "exception": false,
     "start_time": "2025-02-02T17:54:17.489304",
     "status": "completed"
    },
    "tags": []
   },
   "source": [
    "Correlation: (mosltly use) =1to-1  \n",
    "Covariance: plus infinity to minus infinity"
   ]
  },
  {
   "cell_type": "markdown",
   "id": "709b6841",
   "metadata": {
    "papermill": {
     "duration": 0.003629,
     "end_time": "2025-02-02T17:54:17.501374",
     "exception": false,
     "start_time": "2025-02-02T17:54:17.497745",
     "status": "completed"
    },
    "tags": []
   },
   "source": [
    "Variance = sqaure of mean  \n",
    "Standard Deviation = square root of variance"
   ]
  },
  {
   "cell_type": "code",
   "execution_count": 1,
   "id": "95808d6d",
   "metadata": {
    "execution": {
     "iopub.execute_input": "2025-02-02T17:54:17.510502Z",
     "iopub.status.busy": "2025-02-02T17:54:17.510146Z",
     "iopub.status.idle": "2025-02-02T17:54:18.530453Z",
     "shell.execute_reply": "2025-02-02T17:54:18.528830Z"
    },
    "papermill": {
     "duration": 1.028379,
     "end_time": "2025-02-02T17:54:18.533135",
     "exception": false,
     "start_time": "2025-02-02T17:54:17.504756",
     "status": "completed"
    },
    "tags": []
   },
   "outputs": [],
   "source": [
    "import pandas as pd"
   ]
  },
  {
   "cell_type": "code",
   "execution_count": 2,
   "id": "c48ddcee",
   "metadata": {
    "execution": {
     "iopub.execute_input": "2025-02-02T17:54:18.542224Z",
     "iopub.status.busy": "2025-02-02T17:54:18.541693Z",
     "iopub.status.idle": "2025-02-02T17:54:19.138565Z",
     "shell.execute_reply": "2025-02-02T17:54:19.136476Z"
    },
    "papermill": {
     "duration": 0.603504,
     "end_time": "2025-02-02T17:54:19.140772",
     "exception": false,
     "start_time": "2025-02-02T17:54:18.537268",
     "status": "completed"
    },
    "tags": []
   },
   "outputs": [],
   "source": [
    "df = pd.read_excel(\"/kaggle/input/preprocessing/2.3.Categorical-variables.Visualization-techniques-lesson.xlsx\", usecols=\"B:D\", skiprows=[0,1,2],sheet_name=\"Pareto diagram\" )"
   ]
  },
  {
   "cell_type": "code",
   "execution_count": 3,
   "id": "a123a559",
   "metadata": {
    "execution": {
     "iopub.execute_input": "2025-02-02T17:54:19.152374Z",
     "iopub.status.busy": "2025-02-02T17:54:19.151731Z",
     "iopub.status.idle": "2025-02-02T17:54:19.175553Z",
     "shell.execute_reply": "2025-02-02T17:54:19.174285Z"
    },
    "papermill": {
     "duration": 0.031752,
     "end_time": "2025-02-02T17:54:19.176789",
     "exception": false,
     "start_time": "2025-02-02T17:54:19.145037",
     "status": "completed"
    },
    "tags": []
   },
   "outputs": [
    {
     "data": {
      "text/html": [
       "<div>\n",
       "<style scoped>\n",
       "    .dataframe tbody tr th:only-of-type {\n",
       "        vertical-align: middle;\n",
       "    }\n",
       "\n",
       "    .dataframe tbody tr th {\n",
       "        vertical-align: top;\n",
       "    }\n",
       "\n",
       "    .dataframe thead th {\n",
       "        text-align: right;\n",
       "    }\n",
       "</style>\n",
       "<table border=\"1\" class=\"dataframe\">\n",
       "  <thead>\n",
       "    <tr style=\"text-align: right;\">\n",
       "      <th></th>\n",
       "      <th>Unnamed: 1</th>\n",
       "      <th>Frequency</th>\n",
       "      <th>Relative frequency</th>\n",
       "    </tr>\n",
       "  </thead>\n",
       "  <tbody>\n",
       "    <tr>\n",
       "      <th>0</th>\n",
       "      <td>Audi</td>\n",
       "      <td>124</td>\n",
       "      <td>0.370149</td>\n",
       "    </tr>\n",
       "    <tr>\n",
       "      <th>1</th>\n",
       "      <td>BMW</td>\n",
       "      <td>98</td>\n",
       "      <td>0.292537</td>\n",
       "    </tr>\n",
       "    <tr>\n",
       "      <th>2</th>\n",
       "      <td>Mercedes</td>\n",
       "      <td>113</td>\n",
       "      <td>0.337313</td>\n",
       "    </tr>\n",
       "    <tr>\n",
       "      <th>3</th>\n",
       "      <td>Total</td>\n",
       "      <td>335</td>\n",
       "      <td>1</td>\n",
       "    </tr>\n",
       "    <tr>\n",
       "      <th>4</th>\n",
       "      <td>NaN</td>\n",
       "      <td>NaN</td>\n",
       "      <td>NaN</td>\n",
       "    </tr>\n",
       "    <tr>\n",
       "      <th>5</th>\n",
       "      <td>NaN</td>\n",
       "      <td>NaN</td>\n",
       "      <td>NaN</td>\n",
       "    </tr>\n",
       "    <tr>\n",
       "      <th>6</th>\n",
       "      <td>NaN</td>\n",
       "      <td>NaN</td>\n",
       "      <td>NaN</td>\n",
       "    </tr>\n",
       "    <tr>\n",
       "      <th>7</th>\n",
       "      <td>NaN</td>\n",
       "      <td>NaN</td>\n",
       "      <td>NaN</td>\n",
       "    </tr>\n",
       "    <tr>\n",
       "      <th>8</th>\n",
       "      <td>NaN</td>\n",
       "      <td>NaN</td>\n",
       "      <td>NaN</td>\n",
       "    </tr>\n",
       "    <tr>\n",
       "      <th>9</th>\n",
       "      <td>Ordered</td>\n",
       "      <td>Frequency</td>\n",
       "      <td>Relative frequency</td>\n",
       "    </tr>\n",
       "    <tr>\n",
       "      <th>10</th>\n",
       "      <td>Audi</td>\n",
       "      <td>124</td>\n",
       "      <td>0.370149</td>\n",
       "    </tr>\n",
       "    <tr>\n",
       "      <th>11</th>\n",
       "      <td>Mercedes</td>\n",
       "      <td>113</td>\n",
       "      <td>0.337313</td>\n",
       "    </tr>\n",
       "    <tr>\n",
       "      <th>12</th>\n",
       "      <td>BMW</td>\n",
       "      <td>98</td>\n",
       "      <td>0.292537</td>\n",
       "    </tr>\n",
       "  </tbody>\n",
       "</table>\n",
       "</div>"
      ],
      "text/plain": [
       "   Unnamed: 1  Frequency  Relative frequency\n",
       "0        Audi        124            0.370149\n",
       "1         BMW         98            0.292537\n",
       "2    Mercedes        113            0.337313\n",
       "3       Total        335                   1\n",
       "4         NaN        NaN                 NaN\n",
       "5         NaN        NaN                 NaN\n",
       "6         NaN        NaN                 NaN\n",
       "7         NaN        NaN                 NaN\n",
       "8         NaN        NaN                 NaN\n",
       "9     Ordered  Frequency  Relative frequency\n",
       "10       Audi        124            0.370149\n",
       "11   Mercedes        113            0.337313\n",
       "12        BMW         98            0.292537"
      ]
     },
     "execution_count": 3,
     "metadata": {},
     "output_type": "execute_result"
    }
   ],
   "source": [
    "df"
   ]
  },
  {
   "cell_type": "code",
   "execution_count": 4,
   "id": "4dd30424",
   "metadata": {
    "execution": {
     "iopub.execute_input": "2025-02-02T17:54:19.185448Z",
     "iopub.status.busy": "2025-02-02T17:54:19.185153Z",
     "iopub.status.idle": "2025-02-02T17:54:19.189246Z",
     "shell.execute_reply": "2025-02-02T17:54:19.188050Z"
    },
    "papermill": {
     "duration": 0.009817,
     "end_time": "2025-02-02T17:54:19.190403",
     "exception": false,
     "start_time": "2025-02-02T17:54:19.180586",
     "status": "completed"
    },
    "tags": []
   },
   "outputs": [],
   "source": [
    "df2 = df.loc[0:3]"
   ]
  },
  {
   "cell_type": "code",
   "execution_count": 5,
   "id": "26cc5f64",
   "metadata": {
    "execution": {
     "iopub.execute_input": "2025-02-02T17:54:19.198493Z",
     "iopub.status.busy": "2025-02-02T17:54:19.198139Z",
     "iopub.status.idle": "2025-02-02T17:54:19.205810Z",
     "shell.execute_reply": "2025-02-02T17:54:19.204765Z"
    },
    "papermill": {
     "duration": 0.013917,
     "end_time": "2025-02-02T17:54:19.207940",
     "exception": false,
     "start_time": "2025-02-02T17:54:19.194023",
     "status": "completed"
    },
    "tags": []
   },
   "outputs": [
    {
     "data": {
      "text/html": [
       "<div>\n",
       "<style scoped>\n",
       "    .dataframe tbody tr th:only-of-type {\n",
       "        vertical-align: middle;\n",
       "    }\n",
       "\n",
       "    .dataframe tbody tr th {\n",
       "        vertical-align: top;\n",
       "    }\n",
       "\n",
       "    .dataframe thead th {\n",
       "        text-align: right;\n",
       "    }\n",
       "</style>\n",
       "<table border=\"1\" class=\"dataframe\">\n",
       "  <thead>\n",
       "    <tr style=\"text-align: right;\">\n",
       "      <th></th>\n",
       "      <th>Unnamed: 1</th>\n",
       "      <th>Frequency</th>\n",
       "      <th>Relative frequency</th>\n",
       "    </tr>\n",
       "  </thead>\n",
       "  <tbody>\n",
       "    <tr>\n",
       "      <th>0</th>\n",
       "      <td>Audi</td>\n",
       "      <td>124</td>\n",
       "      <td>0.370149</td>\n",
       "    </tr>\n",
       "    <tr>\n",
       "      <th>1</th>\n",
       "      <td>BMW</td>\n",
       "      <td>98</td>\n",
       "      <td>0.292537</td>\n",
       "    </tr>\n",
       "    <tr>\n",
       "      <th>2</th>\n",
       "      <td>Mercedes</td>\n",
       "      <td>113</td>\n",
       "      <td>0.337313</td>\n",
       "    </tr>\n",
       "    <tr>\n",
       "      <th>3</th>\n",
       "      <td>Total</td>\n",
       "      <td>335</td>\n",
       "      <td>1</td>\n",
       "    </tr>\n",
       "  </tbody>\n",
       "</table>\n",
       "</div>"
      ],
      "text/plain": [
       "  Unnamed: 1 Frequency Relative frequency\n",
       "0       Audi       124           0.370149\n",
       "1        BMW        98           0.292537\n",
       "2   Mercedes       113           0.337313\n",
       "3      Total       335                  1"
      ]
     },
     "execution_count": 5,
     "metadata": {},
     "output_type": "execute_result"
    }
   ],
   "source": [
    "df2"
   ]
  },
  {
   "cell_type": "code",
   "execution_count": 6,
   "id": "0cfc48d2",
   "metadata": {
    "execution": {
     "iopub.execute_input": "2025-02-02T17:54:19.217683Z",
     "iopub.status.busy": "2025-02-02T17:54:19.217323Z",
     "iopub.status.idle": "2025-02-02T17:54:19.455254Z",
     "shell.execute_reply": "2025-02-02T17:54:19.454000Z"
    },
    "papermill": {
     "duration": 0.244146,
     "end_time": "2025-02-02T17:54:19.456624",
     "exception": false,
     "start_time": "2025-02-02T17:54:19.212478",
     "status": "completed"
    },
    "tags": []
   },
   "outputs": [
    {
     "name": "stderr",
     "output_type": "stream",
     "text": [
      "<ipython-input-6-e31306d7dccf>:1: FutureWarning: Downcasting object dtype arrays on .fillna, .ffill, .bfill is deprecated and will change in a future version. Call result.infer_objects(copy=False) instead. To opt-in to the future behavior, set `pd.set_option('future.no_silent_downcasting', True)`\n",
      "  df2[\"Frequency\"].plot.pie(subplots=True)\n"
     ]
    },
    {
     "data": {
      "text/plain": [
       "array([<Axes: ylabel='Frequency'>], dtype=object)"
      ]
     },
     "execution_count": 6,
     "metadata": {},
     "output_type": "execute_result"
    },
    {
     "data": {
      "image/png": "[encoded data removed]",
      "text/plain": [
       "<Figure size 640x480 with 1 Axes>"
      ]
     },
     "metadata": {},
     "output_type": "display_data"
    }
   ],
   "source": [
    "df2[\"Frequency\"].plot.pie(subplots=True)"
   ]
  },
  {
   "cell_type": "code",
   "execution_count": 7,
   "id": "78a6f5a8",
   "metadata": {
    "execution": {
     "iopub.execute_input": "2025-02-02T17:54:19.466934Z",
     "iopub.status.busy": "2025-02-02T17:54:19.466587Z",
     "iopub.status.idle": "2025-02-02T17:54:19.636062Z",
     "shell.execute_reply": "2025-02-02T17:54:19.634781Z"
    },
    "papermill": {
     "duration": 0.176932,
     "end_time": "2025-02-02T17:54:19.638184",
     "exception": false,
     "start_time": "2025-02-02T17:54:19.461252",
     "status": "completed"
    },
    "tags": []
   },
   "outputs": [
    {
     "data": {
      "text/plain": [
       "<Axes: >"
      ]
     },
     "execution_count": 7,
     "metadata": {},
     "output_type": "execute_result"
    },
    {
     "data": {
      "image/png": "[encoded data removed]",
      "text/plain": [
       "<Figure size 640x480 with 1 Axes>"
      ]
     },
     "metadata": {},
     "output_type": "display_data"
    }
   ],
   "source": [
    "df2.plot.bar()"
   ]
  },
  {
   "cell_type": "code",
   "execution_count": 8,
   "id": "9d86ccb4",
   "metadata": {
    "execution": {
     "iopub.execute_input": "2025-02-02T17:54:19.653752Z",
     "iopub.status.busy": "2025-02-02T17:54:19.653492Z",
     "iopub.status.idle": "2025-02-02T17:54:19.678965Z",
     "shell.execute_reply": "2025-02-02T17:54:19.677444Z"
    },
    "papermill": {
     "duration": 0.035315,
     "end_time": "2025-02-02T17:54:19.680590",
     "exception": false,
     "start_time": "2025-02-02T17:54:19.645275",
     "status": "completed"
    },
    "tags": []
   },
   "outputs": [],
   "source": [
    "df =pd.read_excel(\"/kaggle/input/standard/2.10.Standarddeviationandcoefficientofvariation_lesson.xlsx\",sheet_name=\"Std and cv\", skiprows=[0,1,2,3], usecols=\"C:D\", header = None)"
   ]
  },
  {
   "cell_type": "code",
   "execution_count": 9,
   "id": "ca8018f1",
   "metadata": {
    "execution": {
     "iopub.execute_input": "2025-02-02T17:54:19.702193Z",
     "iopub.status.busy": "2025-02-02T17:54:19.701742Z",
     "iopub.status.idle": "2025-02-02T17:54:19.708396Z",
     "shell.execute_reply": "2025-02-02T17:54:19.707382Z"
    },
    "papermill": {
     "duration": 0.017607,
     "end_time": "2025-02-02T17:54:19.710794",
     "exception": false,
     "start_time": "2025-02-02T17:54:19.693187",
     "status": "completed"
    },
    "tags": []
   },
   "outputs": [],
   "source": [
    "df.rename(columns={2:\"A\",3:\"B\"}, inplace=True)"
   ]
  },
  {
   "cell_type": "code",
   "execution_count": 10,
   "id": "08402c48",
   "metadata": {
    "execution": {
     "iopub.execute_input": "2025-02-02T17:54:19.726074Z",
     "iopub.status.busy": "2025-02-02T17:54:19.725665Z",
     "iopub.status.idle": "2025-02-02T17:54:19.733717Z",
     "shell.execute_reply": "2025-02-02T17:54:19.732987Z"
    },
    "papermill": {
     "duration": 0.016582,
     "end_time": "2025-02-02T17:54:19.734968",
     "exception": false,
     "start_time": "2025-02-02T17:54:19.718386",
     "status": "completed"
    },
    "tags": []
   },
   "outputs": [
    {
     "data": {
      "text/html": [
       "<div>\n",
       "<style scoped>\n",
       "    .dataframe tbody tr th:only-of-type {\n",
       "        vertical-align: middle;\n",
       "    }\n",
       "\n",
       "    .dataframe tbody tr th {\n",
       "        vertical-align: top;\n",
       "    }\n",
       "\n",
       "    .dataframe thead th {\n",
       "        text-align: right;\n",
       "    }\n",
       "</style>\n",
       "<table border=\"1\" class=\"dataframe\">\n",
       "  <thead>\n",
       "    <tr style=\"text-align: right;\">\n",
       "      <th></th>\n",
       "      <th>A</th>\n",
       "      <th>B</th>\n",
       "    </tr>\n",
       "  </thead>\n",
       "  <tbody>\n",
       "    <tr>\n",
       "      <th>0</th>\n",
       "      <td>1</td>\n",
       "      <td>18.81</td>\n",
       "    </tr>\n",
       "    <tr>\n",
       "      <th>1</th>\n",
       "      <td>2</td>\n",
       "      <td>37.62</td>\n",
       "    </tr>\n",
       "    <tr>\n",
       "      <th>2</th>\n",
       "      <td>3</td>\n",
       "      <td>56.43</td>\n",
       "    </tr>\n",
       "    <tr>\n",
       "      <th>3</th>\n",
       "      <td>3</td>\n",
       "      <td>56.43</td>\n",
       "    </tr>\n",
       "    <tr>\n",
       "      <th>4</th>\n",
       "      <td>5</td>\n",
       "      <td>94.05</td>\n",
       "    </tr>\n",
       "    <tr>\n",
       "      <th>5</th>\n",
       "      <td>6</td>\n",
       "      <td>112.86</td>\n",
       "    </tr>\n",
       "    <tr>\n",
       "      <th>6</th>\n",
       "      <td>7</td>\n",
       "      <td>131.67</td>\n",
       "    </tr>\n",
       "    <tr>\n",
       "      <th>7</th>\n",
       "      <td>8</td>\n",
       "      <td>150.48</td>\n",
       "    </tr>\n",
       "    <tr>\n",
       "      <th>8</th>\n",
       "      <td>9</td>\n",
       "      <td>169.29</td>\n",
       "    </tr>\n",
       "    <tr>\n",
       "      <th>9</th>\n",
       "      <td>11</td>\n",
       "      <td>206.91</td>\n",
       "    </tr>\n",
       "  </tbody>\n",
       "</table>\n",
       "</div>"
      ],
      "text/plain": [
       "    A       B\n",
       "0   1   18.81\n",
       "1   2   37.62\n",
       "2   3   56.43\n",
       "3   3   56.43\n",
       "4   5   94.05\n",
       "5   6  112.86\n",
       "6   7  131.67\n",
       "7   8  150.48\n",
       "8   9  169.29\n",
       "9  11  206.91"
      ]
     },
     "execution_count": 10,
     "metadata": {},
     "output_type": "execute_result"
    }
   ],
   "source": [
    "df"
   ]
  },
  {
   "cell_type": "code",
   "execution_count": 11,
   "id": "a735f28b",
   "metadata": {
    "execution": {
     "iopub.execute_input": "2025-02-02T17:54:19.747548Z",
     "iopub.status.busy": "2025-02-02T17:54:19.747202Z",
     "iopub.status.idle": "2025-02-02T17:54:20.011362Z",
     "shell.execute_reply": "2025-02-02T17:54:20.009955Z"
    },
    "papermill": {
     "duration": 0.271963,
     "end_time": "2025-02-02T17:54:20.013071",
     "exception": false,
     "start_time": "2025-02-02T17:54:19.741108",
     "status": "completed"
    },
    "tags": []
   },
   "outputs": [
    {
     "data": {
      "image/png": "[encoded data removed]",
      "text/plain": [
       "<Figure size 640x480 with 1 Axes>"
      ]
     },
     "metadata": {},
     "output_type": "display_data"
    }
   ],
   "source": [
    "import matplotlib.pyplot as plt\n",
    "\n",
    "fig, ax = plt.subplots()\n",
    "ax.bar(x=df[\"A\"],height=df[\"B\"])\n",
    "plt.show()\n",
    "\n",
    "# fig, ax = plt.subplots()\n",
    "# p = ax.bar(x=df['A'], height=df['B'])#, label=str(df['Frequency']))\n",
    "# #ax.bar_label(p, label_type='center')\n",
    "# plt.show()"
   ]
  },
  {
   "cell_type": "code",
   "execution_count": 12,
   "id": "d1695003",
   "metadata": {
    "execution": {
     "iopub.execute_input": "2025-02-02T17:54:20.033582Z",
     "iopub.status.busy": "2025-02-02T17:54:20.033145Z",
     "iopub.status.idle": "2025-02-02T17:54:20.039403Z",
     "shell.execute_reply": "2025-02-02T17:54:20.038573Z"
    },
    "papermill": {
     "duration": 0.016898,
     "end_time": "2025-02-02T17:54:20.040867",
     "exception": false,
     "start_time": "2025-02-02T17:54:20.023969",
     "status": "completed"
    },
    "tags": []
   },
   "outputs": [
    {
     "data": {
      "text/plain": [
       "5.5"
      ]
     },
     "execution_count": 12,
     "metadata": {},
     "output_type": "execute_result"
    }
   ],
   "source": [
    "df[\"A\"].mean()"
   ]
  },
  {
   "cell_type": "code",
   "execution_count": 13,
   "id": "6f36ab89",
   "metadata": {
    "execution": {
     "iopub.execute_input": "2025-02-02T17:54:20.057813Z",
     "iopub.status.busy": "2025-02-02T17:54:20.057462Z",
     "iopub.status.idle": "2025-02-02T17:54:20.063266Z",
     "shell.execute_reply": "2025-02-02T17:54:20.062326Z"
    },
    "papermill": {
     "duration": 0.016106,
     "end_time": "2025-02-02T17:54:20.065173",
     "exception": false,
     "start_time": "2025-02-02T17:54:20.049067",
     "status": "completed"
    },
    "tags": []
   },
   "outputs": [
    {
     "data": {
      "text/plain": [
       "3.2744804507314167"
      ]
     },
     "execution_count": 13,
     "metadata": {},
     "output_type": "execute_result"
    }
   ],
   "source": [
    "df[\"A\"].std()"
   ]
  },
  {
   "cell_type": "code",
   "execution_count": 14,
   "id": "61fc8f4b",
   "metadata": {
    "execution": {
     "iopub.execute_input": "2025-02-02T17:54:20.077597Z",
     "iopub.status.busy": "2025-02-02T17:54:20.077247Z",
     "iopub.status.idle": "2025-02-02T17:54:20.083842Z",
     "shell.execute_reply": "2025-02-02T17:54:20.082583Z"
    },
    "papermill": {
     "duration": 0.014558,
     "end_time": "2025-02-02T17:54:20.085512",
     "exception": false,
     "start_time": "2025-02-02T17:54:20.070954",
     "status": "completed"
    },
    "tags": []
   },
   "outputs": [
    {
     "data": {
      "text/plain": [
       "10.722222222222221"
      ]
     },
     "execution_count": 14,
     "metadata": {},
     "output_type": "execute_result"
    }
   ],
   "source": [
    "df[\"A\"].var()"
   ]
  },
  {
   "cell_type": "code",
   "execution_count": 15,
   "id": "070f9ab9",
   "metadata": {
    "execution": {
     "iopub.execute_input": "2025-02-02T17:54:20.098326Z",
     "iopub.status.busy": "2025-02-02T17:54:20.097859Z",
     "iopub.status.idle": "2025-02-02T17:54:20.289849Z",
     "shell.execute_reply": "2025-02-02T17:54:20.288625Z"
    },
    "papermill": {
     "duration": 0.20006,
     "end_time": "2025-02-02T17:54:20.291433",
     "exception": false,
     "start_time": "2025-02-02T17:54:20.091373",
     "status": "completed"
    },
    "tags": []
   },
   "outputs": [
    {
     "data": {
      "text/plain": [
       "<Axes: ylabel='Frequency'>"
      ]
     },
     "execution_count": 15,
     "metadata": {},
     "output_type": "execute_result"
    },
    {
     "data": {
      "image/png": "[encoded data removed]",
      "text/plain": [
       "<Figure size 640x480 with 1 Axes>"
      ]
     },
     "metadata": {},
     "output_type": "display_data"
    }
   ],
   "source": [
    "df.plot.hist()"
   ]
  },
  {
   "cell_type": "code",
   "execution_count": 16,
   "id": "640fc606",
   "metadata": {
    "execution": {
     "iopub.execute_input": "2025-02-02T17:54:20.305135Z",
     "iopub.status.busy": "2025-02-02T17:54:20.304749Z",
     "iopub.status.idle": "2025-02-02T17:54:20.309678Z",
     "shell.execute_reply": "2025-02-02T17:54:20.308017Z"
    },
    "papermill": {
     "duration": 0.013545,
     "end_time": "2025-02-02T17:54:20.311200",
     "exception": false,
     "start_time": "2025-02-02T17:54:20.297655",
     "status": "completed"
    },
    "tags": []
   },
   "outputs": [],
   "source": [
    "#df.index = df[\"A\"]"
   ]
  },
  {
   "cell_type": "code",
   "execution_count": 17,
   "id": "e9f6b8d7",
   "metadata": {
    "execution": {
     "iopub.execute_input": "2025-02-02T17:54:20.324239Z",
     "iopub.status.busy": "2025-02-02T17:54:20.323843Z",
     "iopub.status.idle": "2025-02-02T17:54:20.328329Z",
     "shell.execute_reply": "2025-02-02T17:54:20.327055Z"
    },
    "papermill": {
     "duration": 0.013205,
     "end_time": "2025-02-02T17:54:20.330375",
     "exception": false,
     "start_time": "2025-02-02T17:54:20.317170",
     "status": "completed"
    },
    "tags": []
   },
   "outputs": [],
   "source": [
    "#df.drop([\"A\"], axis=1, inplace=True)"
   ]
  },
  {
   "cell_type": "code",
   "execution_count": 18,
   "id": "1cd26297",
   "metadata": {
    "execution": {
     "iopub.execute_input": "2025-02-02T17:54:20.343801Z",
     "iopub.status.busy": "2025-02-02T17:54:20.343457Z",
     "iopub.status.idle": "2025-02-02T17:54:20.501048Z",
     "shell.execute_reply": "2025-02-02T17:54:20.499678Z"
    },
    "papermill": {
     "duration": 0.166402,
     "end_time": "2025-02-02T17:54:20.502991",
     "exception": false,
     "start_time": "2025-02-02T17:54:20.336589",
     "status": "completed"
    },
    "tags": []
   },
   "outputs": [
    {
     "data": {
      "text/plain": [
       "<Axes: xlabel='A', ylabel='B'>"
      ]
     },
     "execution_count": 18,
     "metadata": {},
     "output_type": "execute_result"
    },
    {
     "data": {
      "image/png": "[encoded data removed]",
      "text/plain": [
       "<Figure size 640x480 with 1 Axes>"
      ]
     },
     "metadata": {},
     "output_type": "display_data"
    }
   ],
   "source": [
    "df.plot.scatter(x=\"A\",y=\"B\")"
   ]
  },
  {
   "cell_type": "code",
   "execution_count": 19,
   "id": "6a368745",
   "metadata": {
    "execution": {
     "iopub.execute_input": "2025-02-02T17:54:20.522124Z",
     "iopub.status.busy": "2025-02-02T17:54:20.521691Z",
     "iopub.status.idle": "2025-02-02T17:54:20.665991Z",
     "shell.execute_reply": "2025-02-02T17:54:20.664262Z"
    },
    "papermill": {
     "duration": 0.154484,
     "end_time": "2025-02-02T17:54:20.667597",
     "exception": false,
     "start_time": "2025-02-02T17:54:20.513113",
     "status": "completed"
    },
    "tags": []
   },
   "outputs": [
    {
     "data": {
      "image/png": "[encoded data removed]",
      "text/plain": [
       "<Figure size 640x480 with 1 Axes>"
      ]
     },
     "metadata": {},
     "output_type": "display_data"
    }
   ],
   "source": [
    "fig, ax = plt.subplots()\n",
    "ax.scatter(df[\"A\"],df[\"B\"])\n",
    "ax.grid()\n",
    "ax.set_xlabel(\"A\")\n",
    "ax.set_ylabel(\"B\")\n",
    "plt.show()"
   ]
  }
 ],
 "metadata": {
  "kaggle": {
   "accelerator": "none",
   "dataSources": [
    {
     "datasetId": 6589988,
     "sourceId": 10643130,
     "sourceType": "datasetVersion"
    },
    {
     "datasetId": 6590445,
     "sourceId": 10643814,
     "sourceType": "datasetVersion"
    }
   ],
   "dockerImageVersionId": 30839,
   "isGpuEnabled": false,
   "isInternetEnabled": true,
   "language": "python",
   "sourceType": "notebook"
  },
  "kernelspec": {
   "display_name": "Python 3",
   "language": "python",
   "name": "python3"
  },
  "language_info": {
   "codemirror_mode": {
    "name": "ipython",
    "version": 3
   },
   "file_extension": ".py",
   "mimetype": "text/x-python",
   "name": "python",
   "nbconvert_exporter": "python",
   "pygments_lexer": "ipython3",
   "version": "3.10.12"
  },
  "papermill": {
   "default_parameters": {},
   "duration": 6.356104,
   "end_time": "2025-02-02T17:54:21.396371",
   "environment_variables": {},
   "exception": null,
   "input_path": "__notebook__.ipynb",
   "output_path": "__notebook__.ipynb",
   "parameters": {},
   "start_time": "2025-02-02T17:54:15.040267",
   "version": "2.6.0"
  }
 },
 "nbformat": 4,
 "nbformat_minor": 5
}

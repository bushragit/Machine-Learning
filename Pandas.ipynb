{
  "metadata": {
    "kernelspec": {
      "language": "python",
      "display_name": "Python 3",
      "name": "python3"
    },
    "language_info": {
      "name": "python",
      "version": "3.10.12",
      "mimetype": "text/x-python",
      "codemirror_mode": {
        "name": "ipython",
        "version": 3
      },
      "pygments_lexer": "ipython3",
      "nbconvert_exporter": "python",
      "file_extension": ".py"
    },
    "kaggle": {
      "accelerator": "none",
      "dataSources": [],
      "dockerImageVersionId": 30839,
      "isInternetEnabled": true,
      "language": "python",
      "sourceType": "notebook",
      "isGpuEnabled": false
    },
    "colab": {
      "name": "Pandas",
      "provenance": [],
      "include_colab_link": true
    }
  },
  "nbformat_minor": 0,
  "nbformat": 4,
  "cells": [
    {
      "cell_type": "markdown",
      "metadata": {
        "id": "view-in-github",
        "colab_type": "text"
      },
      "source": [
        "<a href=\"https://colab.research.google.com/github/bushragit/Machine-Learning/blob/main/Pandas.ipynb\" target=\"_parent\"><img src=\"https://colab.research.google.com/assets/colab-badge.svg\" alt=\"Open In Colab\"/></a>"
      ]
    },
    {
      "cell_type": "code",
      "source": [
        "import pandas as pd"
      ],
      "metadata": {
        "trusted": true,
        "execution": {
          "iopub.status.busy": "2025-02-01T18:03:25.658404Z",
          "iopub.execute_input": "2025-02-01T18:03:25.658736Z",
          "iopub.status.idle": "2025-02-01T18:03:26.056756Z",
          "shell.execute_reply.started": "2025-02-01T18:03:25.65871Z",
          "shell.execute_reply": "2025-02-01T18:03:26.055887Z"
        },
        "id": "8bLoAl79aJPR"
      },
      "outputs": [],
      "execution_count": null
    },
    {
      "cell_type": "code",
      "source": [
        "#How do you quickly access the top 5 rows and last 5 rows of a pandas DataFrame?"
      ],
      "metadata": {
        "trusted": true,
        "id": "Yzy17gfXaJPU"
      },
      "outputs": [],
      "execution_count": null
    },
    {
      "cell_type": "code",
      "source": [
        "#In pandas, shape is an attribute and not a method. So, you should access it without parentheses.\n",
        "\n",
        "#DataFrame.shape outputs a tuple with the number of rows and columns in a DataFrame."
      ],
      "metadata": {
        "trusted": true,
        "id": "XlmrcguQaJPV"
      },
      "outputs": [],
      "execution_count": null
    },
    {
      "cell_type": "code",
      "source": [
        "data = {'a' : 0., 'b' : 1., 'c' : 2., 'd': 3.}"
      ],
      "metadata": {
        "trusted": true,
        "id": "ggGxiAZ8aJPW"
      },
      "outputs": [],
      "execution_count": null
    },
    {
      "cell_type": "code",
      "source": [
        "x = pd.Series({'a' : 0., 'b' : 1., 'c' : 2., 'd': 3.})"
      ],
      "metadata": {
        "trusted": true,
        "execution": {
          "iopub.status.busy": "2025-02-01T14:12:50.016816Z",
          "iopub.execute_input": "2025-02-01T14:12:50.017197Z",
          "iopub.status.idle": "2025-02-01T14:12:50.025411Z",
          "shell.execute_reply.started": "2025-02-01T14:12:50.01717Z",
          "shell.execute_reply": "2025-02-01T14:12:50.024238Z"
        },
        "id": "jtLA593zaJPW"
      },
      "outputs": [],
      "execution_count": null
    },
    {
      "cell_type": "code",
      "source": [
        "x"
      ],
      "metadata": {
        "trusted": true,
        "execution": {
          "iopub.status.busy": "2025-02-01T14:12:54.368686Z",
          "iopub.execute_input": "2025-02-01T14:12:54.369073Z",
          "iopub.status.idle": "2025-02-01T14:12:54.386356Z",
          "shell.execute_reply.started": "2025-02-01T14:12:54.369042Z",
          "shell.execute_reply": "2025-02-01T14:12:54.385007Z"
        },
        "id": "-aSQZCMOaJPX"
      },
      "outputs": [],
      "execution_count": null
    },
    {
      "cell_type": "code",
      "source": [
        "import numpy as np\n",
        "a=np.array((2,3,))\n",
        "b=np.zeros((2,3))\n",
        "print(a)\n",
        "print(a.ndim)\n",
        "print(b)\n",
        "print(b.ndim)"
      ],
      "metadata": {
        "trusted": true,
        "execution": {
          "iopub.status.busy": "2025-02-01T16:58:26.790109Z",
          "iopub.execute_input": "2025-02-01T16:58:26.790511Z",
          "iopub.status.idle": "2025-02-01T16:58:26.797697Z",
          "shell.execute_reply.started": "2025-02-01T16:58:26.79048Z",
          "shell.execute_reply": "2025-02-01T16:58:26.796559Z"
        },
        "id": "S8meiYr-aJPX"
      },
      "outputs": [],
      "execution_count": null
    },
    {
      "cell_type": "code",
      "source": [
        "#numpy to df"
      ],
      "metadata": {
        "trusted": true,
        "id": "PYRdd_PoaJPX"
      },
      "outputs": [],
      "execution_count": null
    },
    {
      "cell_type": "code",
      "source": [
        "b = pd.DataFrame(b, columns = ['Column 1', 'Column 2', 'Column 3'], index = ['Row 1', 'Row 2'])\n",
        "b"
      ],
      "metadata": {
        "trusted": true,
        "execution": {
          "iopub.status.busy": "2025-02-01T16:58:34.920615Z",
          "iopub.execute_input": "2025-02-01T16:58:34.920964Z",
          "iopub.status.idle": "2025-02-01T16:58:34.933131Z",
          "shell.execute_reply.started": "2025-02-01T16:58:34.920936Z",
          "shell.execute_reply": "2025-02-01T16:58:34.931952Z"
        },
        "id": "jN3fhj3uaJPY"
      },
      "outputs": [],
      "execution_count": null
    },
    {
      "cell_type": "code",
      "source": [
        "#df to numpy\n",
        "b.to_numpy()"
      ],
      "metadata": {
        "trusted": true,
        "execution": {
          "iopub.status.busy": "2025-02-01T16:57:52.74994Z",
          "iopub.execute_input": "2025-02-01T16:57:52.750267Z",
          "iopub.status.idle": "2025-02-01T16:57:52.756859Z",
          "shell.execute_reply.started": "2025-02-01T16:57:52.750243Z",
          "shell.execute_reply": "2025-02-01T16:57:52.755784Z"
        },
        "id": "8v-yZyvIaJPY"
      },
      "outputs": [],
      "execution_count": null
    },
    {
      "cell_type": "code",
      "source": [
        "#df to numpy\n",
        "b.values"
      ],
      "metadata": {
        "trusted": true,
        "execution": {
          "iopub.status.busy": "2025-02-01T16:58:38.624652Z",
          "iopub.execute_input": "2025-02-01T16:58:38.624982Z",
          "iopub.status.idle": "2025-02-01T16:58:38.631067Z",
          "shell.execute_reply.started": "2025-02-01T16:58:38.624959Z",
          "shell.execute_reply": "2025-02-01T16:58:38.630082Z"
        },
        "id": "i_9w_5JdaJPY"
      },
      "outputs": [],
      "execution_count": null
    },
    {
      "cell_type": "code",
      "source": [
        "n = pd.DataFrame([[\"Age\",19,22],[\"Gender\",\"Female\",\"male\"],[\"class\",\"first\",\"second\"]])\n",
        "n"
      ],
      "metadata": {
        "trusted": true,
        "execution": {
          "iopub.status.busy": "2025-02-01T16:59:54.213005Z",
          "iopub.execute_input": "2025-02-01T16:59:54.213373Z",
          "iopub.status.idle": "2025-02-01T16:59:54.224007Z",
          "shell.execute_reply.started": "2025-02-01T16:59:54.21331Z",
          "shell.execute_reply": "2025-02-01T16:59:54.222916Z"
        },
        "id": "rnwa7Am1aJPZ"
      },
      "outputs": [],
      "execution_count": null
    },
    {
      "cell_type": "code",
      "source": [
        "n.rename(columns = {0:\"A\",1:\"B\",2:\"C\"}, )"
      ],
      "metadata": {
        "trusted": true,
        "execution": {
          "iopub.status.busy": "2025-02-01T16:56:03.411197Z",
          "iopub.execute_input": "2025-02-01T16:56:03.411601Z",
          "iopub.status.idle": "2025-02-01T16:56:03.423451Z",
          "shell.execute_reply.started": "2025-02-01T16:56:03.411569Z",
          "shell.execute_reply": "2025-02-01T16:56:03.422342Z"
        },
        "id": "ATWPkYBoaJPZ"
      },
      "outputs": [],
      "execution_count": null
    },
    {
      "cell_type": "code",
      "source": [
        "df[\"Column 1\"]"
      ],
      "metadata": {
        "trusted": true,
        "execution": {
          "iopub.status.busy": "2025-02-01T16:38:33.550047Z",
          "iopub.execute_input": "2025-02-01T16:38:33.550389Z",
          "iopub.status.idle": "2025-02-01T16:38:33.557448Z",
          "shell.execute_reply.started": "2025-02-01T16:38:33.550364Z",
          "shell.execute_reply": "2025-02-01T16:38:33.556425Z"
        },
        "id": "HgZeAtMWaJPZ"
      },
      "outputs": [],
      "execution_count": null
    },
    {
      "cell_type": "code",
      "source": [
        "c=pd.Series(a)\n",
        "print(c)"
      ],
      "metadata": {
        "trusted": true,
        "execution": {
          "iopub.status.busy": "2025-02-01T14:34:24.972056Z",
          "iopub.execute_input": "2025-02-01T14:34:24.972541Z",
          "iopub.status.idle": "2025-02-01T14:34:24.978955Z",
          "shell.execute_reply.started": "2025-02-01T14:34:24.972471Z",
          "shell.execute_reply": "2025-02-01T14:34:24.977528Z"
        },
        "id": "kY1pkELeaJPa"
      },
      "outputs": [],
      "execution_count": null
    },
    {
      "cell_type": "code",
      "source": [
        "d=pd.DataFrame(b)\n",
        "d"
      ],
      "metadata": {
        "trusted": true,
        "execution": {
          "iopub.status.busy": "2025-02-01T17:03:29.362595Z",
          "iopub.execute_input": "2025-02-01T17:03:29.36292Z",
          "iopub.status.idle": "2025-02-01T17:03:29.372752Z",
          "shell.execute_reply.started": "2025-02-01T17:03:29.362897Z",
          "shell.execute_reply": "2025-02-01T17:03:29.371815Z"
        },
        "id": "vDF1z5CpaJPa"
      },
      "outputs": [],
      "execution_count": null
    },
    {
      "cell_type": "code",
      "source": [
        "x = pd.Series([5, 10, 15, 20, 25])"
      ],
      "metadata": {
        "trusted": true,
        "execution": {
          "iopub.status.busy": "2025-02-01T18:03:31.965543Z",
          "iopub.execute_input": "2025-02-01T18:03:31.96629Z",
          "iopub.status.idle": "2025-02-01T18:03:31.97327Z",
          "shell.execute_reply.started": "2025-02-01T18:03:31.96625Z",
          "shell.execute_reply": "2025-02-01T18:03:31.971687Z"
        },
        "id": "AMoDTEhgaJPa"
      },
      "outputs": [],
      "execution_count": null
    },
    {
      "cell_type": "code",
      "source": [
        "x.iloc[0]"
      ],
      "metadata": {
        "trusted": true,
        "execution": {
          "iopub.status.busy": "2025-02-01T18:03:34.250537Z",
          "iopub.execute_input": "2025-02-01T18:03:34.250935Z",
          "iopub.status.idle": "2025-02-01T18:03:34.258388Z",
          "shell.execute_reply.started": "2025-02-01T18:03:34.250902Z",
          "shell.execute_reply": "2025-02-01T18:03:34.257204Z"
        },
        "id": "Dt3qzQeraJPb"
      },
      "outputs": [],
      "execution_count": null
    },
    {
      "cell_type": "code",
      "source": [
        "x.loc[0]"
      ],
      "metadata": {
        "trusted": true,
        "execution": {
          "iopub.status.busy": "2025-02-01T18:03:42.597753Z",
          "iopub.execute_input": "2025-02-01T18:03:42.598085Z",
          "iopub.status.idle": "2025-02-01T18:03:42.605067Z",
          "shell.execute_reply.started": "2025-02-01T18:03:42.59806Z",
          "shell.execute_reply": "2025-02-01T18:03:42.604021Z"
        },
        "id": "ZuuQrHnuaJPb"
      },
      "outputs": [],
      "execution_count": null
    },
    {
      "cell_type": "code",
      "source": [
        "x.iloc[-1]"
      ],
      "metadata": {
        "trusted": true,
        "id": "T-CDSuODaJPb"
      },
      "outputs": [],
      "execution_count": null
    },
    {
      "cell_type": "code",
      "source": [
        "x.iloc[1:4:2]"
      ],
      "metadata": {
        "trusted": true,
        "id": "AXpPJmJXaJPc"
      },
      "outputs": [],
      "execution_count": null
    },
    {
      "cell_type": "code",
      "source": [
        "grades = pd.Series([82, 94, 77, 89, 91, 54])\n",
        "grades"
      ],
      "metadata": {
        "trusted": true,
        "execution": {
          "iopub.status.busy": "2025-02-01T18:06:17.464812Z",
          "iopub.execute_input": "2025-02-01T18:06:17.465222Z",
          "iopub.status.idle": "2025-02-01T18:06:17.472368Z",
          "shell.execute_reply.started": "2025-02-01T18:06:17.465189Z",
          "shell.execute_reply": "2025-02-01T18:06:17.471277Z"
        },
        "id": "NGFYbJ12aJPc"
      },
      "outputs": [],
      "execution_count": null
    },
    {
      "cell_type": "code",
      "source": [
        "grades.index = [\"A\",\"A+\",\"B\",\"A\",\"A+\",\"E\"]\n",
        "grades"
      ],
      "metadata": {
        "trusted": true,
        "execution": {
          "iopub.status.busy": "2025-02-01T18:07:12.276166Z",
          "iopub.execute_input": "2025-02-01T18:07:12.276488Z",
          "iopub.status.idle": "2025-02-01T18:07:12.294888Z",
          "shell.execute_reply.started": "2025-02-01T18:07:12.276465Z",
          "shell.execute_reply": "2025-02-01T18:07:12.293841Z"
        },
        "id": "5vgg7m_eaJPc"
      },
      "outputs": [],
      "execution_count": null
    },
    {
      "cell_type": "code",
      "source": [
        "grades.header=[\"index\",\"A\"]\n",
        "grades"
      ],
      "metadata": {
        "trusted": true,
        "execution": {
          "iopub.status.busy": "2025-02-01T18:09:57.24168Z",
          "iopub.execute_input": "2025-02-01T18:09:57.241999Z",
          "iopub.status.idle": "2025-02-01T18:09:57.248776Z",
          "shell.execute_reply.started": "2025-02-01T18:09:57.241977Z",
          "shell.execute_reply": "2025-02-01T18:09:57.247834Z"
        },
        "id": "27AwVAxhaJPc"
      },
      "outputs": [],
      "execution_count": null
    },
    {
      "cell_type": "code",
      "source": [
        "import pandas as pd\n",
        "\n",
        "# Creating the Series\n",
        "s = pd.Series([82, 94, 77, 89, 91, 54], index=[\"A\", \"A+\", \"B\", \"A\", \"A+\", \"E\"])\n",
        "\n",
        "# Convert Series to DataFrame with a column name\n",
        "df = s.to_frame(name=\"Scores\")\n",
        "\n",
        "# Convert Index to Column\n",
        "df = df.reset_index()  # Moves index to a column\n",
        "df.columns = [\"Grade\", \"Scores\"]  # Rename columns\n",
        "\n",
        "# Convert Column back to Index\n",
        "df = df.set_index(\"Scores\")  # Make \"Scores\" the new index\n",
        "\n",
        "print(df)\n"
      ],
      "metadata": {
        "trusted": true,
        "execution": {
          "iopub.status.busy": "2025-02-01T18:13:09.732299Z",
          "iopub.execute_input": "2025-02-01T18:13:09.732654Z",
          "iopub.status.idle": "2025-02-01T18:13:09.751174Z",
          "shell.execute_reply.started": "2025-02-01T18:13:09.732622Z",
          "shell.execute_reply": "2025-02-01T18:13:09.750069Z"
        },
        "id": "TgXa3EVZaJPc"
      },
      "outputs": [],
      "execution_count": null
    },
    {
      "cell_type": "code",
      "source": [
        "import numpy as np\n",
        "x = pd.Series(np.random.normal(size=5))\n",
        "x"
      ],
      "metadata": {
        "trusted": true,
        "execution": {
          "iopub.status.busy": "2025-02-01T18:14:25.457694Z",
          "iopub.execute_input": "2025-02-01T18:14:25.45803Z",
          "iopub.status.idle": "2025-02-01T18:14:25.466293Z",
          "shell.execute_reply.started": "2025-02-01T18:14:25.457998Z",
          "shell.execute_reply": "2025-02-01T18:14:25.465198Z"
        },
        "id": "LtcfUZSzaJPd"
      },
      "outputs": [],
      "execution_count": null
    },
    {
      "cell_type": "code",
      "source": [
        "x.iloc[2]==3"
      ],
      "metadata": {
        "trusted": true,
        "execution": {
          "iopub.status.busy": "2025-02-01T18:16:04.66271Z",
          "iopub.execute_input": "2025-02-01T18:16:04.663104Z",
          "iopub.status.idle": "2025-02-01T18:16:04.669166Z",
          "shell.execute_reply.started": "2025-02-01T18:16:04.663071Z",
          "shell.execute_reply": "2025-02-01T18:16:04.668059Z"
        },
        "id": "UnWTFxVtaJPd"
      },
      "outputs": [],
      "execution_count": null
    },
    {
      "cell_type": "code",
      "source": [
        "x.iloc[2]=3\n",
        "x"
      ],
      "metadata": {
        "trusted": true,
        "execution": {
          "iopub.status.busy": "2025-02-01T18:16:17.357988Z",
          "iopub.execute_input": "2025-02-01T18:16:17.358347Z",
          "iopub.status.idle": "2025-02-01T18:16:17.364974Z",
          "shell.execute_reply.started": "2025-02-01T18:16:17.358319Z",
          "shell.execute_reply": "2025-02-01T18:16:17.364084Z"
        },
        "id": "G8ajZ2zXaJPd"
      },
      "outputs": [],
      "execution_count": null
    },
    {
      "cell_type": "code",
      "source": [
        "pd.isna(x)"
      ],
      "metadata": {
        "trusted": true,
        "execution": {
          "iopub.status.busy": "2025-02-01T18:40:27.610624Z",
          "iopub.execute_input": "2025-02-01T18:40:27.610932Z",
          "iopub.status.idle": "2025-02-01T18:40:27.689645Z",
          "shell.execute_reply.started": "2025-02-01T18:40:27.610905Z",
          "shell.execute_reply": "2025-02-01T18:40:27.688052Z"
        },
        "id": "UGMOo3ZFaJPe"
      },
      "outputs": [],
      "execution_count": null
    },
    {
      "cell_type": "code",
      "source": [
        "#https://www.practiceprobs.com/problemsets/python-pandas/series/"
      ],
      "metadata": {
        "trusted": true,
        "id": "g0SxCB6laJPe"
      },
      "outputs": [],
      "execution_count": null
    }
  ]
}
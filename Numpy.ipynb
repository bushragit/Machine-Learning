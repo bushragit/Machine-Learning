{
  "metadata": {
    "kernelspec": {
      "language": "python",
      "display_name": "Python 3",
      "name": "python3"
    },
    "language_info": {
      "name": "python",
      "version": "3.10.12",
      "mimetype": "text/x-python",
      "codemirror_mode": {
        "name": "ipython",
        "version": 3
      },
      "pygments_lexer": "ipython3",
      "nbconvert_exporter": "python",
      "file_extension": ".py"
    },
    "kaggle": {
      "accelerator": "none",
      "dataSources": [],
      "dockerImageVersionId": 30839,
      "isInternetEnabled": true,
      "language": "python",
      "sourceType": "notebook",
      "isGpuEnabled": false
    },
    "colab": {
      "name": "Numpy",
      "provenance": [],
      "include_colab_link": true
    }
  },
  "nbformat_minor": 0,
  "nbformat": 4,
  "cells": [
    {
      "cell_type": "markdown",
      "metadata": {
        "id": "view-in-github",
        "colab_type": "text"
      },
      "source": [
        "<a href=\"https://colab.research.google.com/github/bushragit/Machine-Learning/blob/main/Numpy.ipynb\" target=\"_parent\"><img src=\"https://colab.research.google.com/assets/colab-badge.svg\" alt=\"Open In Colab\"/></a>"
      ]
    },
    {
      "cell_type": "markdown",
      "source": [
        "## Numpy Array\n",
        "NumPy is a powerful Python library used for numerical computing. It provides support for large, multi-dimensional arrays and matrices, along with a collection of mathematical functions to operate on these arrays.  "
      ],
      "metadata": {
        "id": "RunXpnPnbEqG"
      }
    },
    {
      "cell_type": "code",
      "source": [
        "# Pandas is designed for working with tabular or heterogeneous data.\n",
        "# NumPy, by contrast, is best suited for working with homogeneous numerical array data.\n"
      ],
      "metadata": {
        "trusted": true,
        "id": "HxdaBqSkbEqI"
      },
      "outputs": [],
      "execution_count": null
    },
    {
      "cell_type": "code",
      "source": [
        "import numpy as np"
      ],
      "metadata": {
        "trusted": true,
        "execution": {
          "iopub.status.busy": "2025-02-01T16:45:02.751134Z",
          "iopub.execute_input": "2025-02-01T16:45:02.751565Z",
          "iopub.status.idle": "2025-02-01T16:45:02.756606Z",
          "shell.execute_reply.started": "2025-02-01T16:45:02.751528Z",
          "shell.execute_reply": "2025-02-01T16:45:02.755435Z"
        },
        "id": "nzjfKBL1bEqM"
      },
      "outputs": [],
      "execution_count": null
    },
    {
      "cell_type": "code",
      "source": [
        "a = np.zeros(9)\n",
        "a\n",
        "print(a.shape)\n",
        "print(a.ndim)"
      ],
      "metadata": {
        "trusted": true,
        "execution": {
          "iopub.status.busy": "2025-02-01T02:36:25.175765Z",
          "iopub.execute_input": "2025-02-01T02:36:25.17611Z",
          "iopub.status.idle": "2025-02-01T02:36:25.181912Z",
          "shell.execute_reply.started": "2025-02-01T02:36:25.176084Z",
          "shell.execute_reply": "2025-02-01T02:36:25.180435Z"
        },
        "id": "ukYc5GYhbEqM",
        "outputId": "b69511e7-ac42-44e3-b778-e26d35dcd490"
      },
      "outputs": [
        {
          "name": "stdout",
          "text": "(9,)\n1\n",
          "output_type": "stream"
        }
      ],
      "execution_count": null
    },
    {
      "cell_type": "code",
      "source": [
        "b = np.zeros((9))\n",
        "b.shape\n",
        "print(b.shape)"
      ],
      "metadata": {
        "trusted": true,
        "execution": {
          "iopub.status.busy": "2025-02-01T02:36:40.614869Z",
          "iopub.execute_input": "2025-02-01T02:36:40.615199Z",
          "iopub.status.idle": "2025-02-01T02:36:40.620241Z",
          "shell.execute_reply.started": "2025-02-01T02:36:40.615172Z",
          "shell.execute_reply": "2025-02-01T02:36:40.619216Z"
        },
        "id": "NuufwNwQbEqN",
        "outputId": "9fe2b9f1-adb8-42ee-f994-300ee9d6f785"
      },
      "outputs": [
        {
          "name": "stdout",
          "text": "(9,)\n",
          "output_type": "stream"
        }
      ],
      "execution_count": null
    },
    {
      "cell_type": "code",
      "source": [
        "c=np.zeros((3,3))\n",
        "c\n",
        "print(c.shape)\n",
        "print(c.ndim)"
      ],
      "metadata": {
        "trusted": true,
        "execution": {
          "iopub.status.busy": "2025-02-01T02:39:28.405956Z",
          "iopub.execute_input": "2025-02-01T02:39:28.406308Z",
          "iopub.status.idle": "2025-02-01T02:39:28.411994Z",
          "shell.execute_reply.started": "2025-02-01T02:39:28.406282Z",
          "shell.execute_reply": "2025-02-01T02:39:28.410942Z"
        },
        "id": "grxL53lJbEqN",
        "outputId": "381e21d5-ce38-4f72-ff82-683a3544bedd"
      },
      "outputs": [
        {
          "name": "stdout",
          "text": "(3, 3)\n2\n",
          "output_type": "stream"
        }
      ],
      "execution_count": null
    },
    {
      "cell_type": "code",
      "source": [
        "d=np.zeros((3,3,3))\n",
        "print(d)\n",
        "print(d.shape)\n",
        "print(d.ndim)"
      ],
      "metadata": {
        "trusted": true,
        "execution": {
          "iopub.status.busy": "2025-02-01T02:48:13.387576Z",
          "iopub.execute_input": "2025-02-01T02:48:13.387911Z",
          "iopub.status.idle": "2025-02-01T02:48:13.393909Z",
          "shell.execute_reply.started": "2025-02-01T02:48:13.387882Z",
          "shell.execute_reply": "2025-02-01T02:48:13.392804Z"
        },
        "id": "p8fWSlIXbEqO",
        "outputId": "4e252de1-77be-4657-de36-5df541f160e4"
      },
      "outputs": [
        {
          "name": "stdout",
          "text": "[[[0. 0. 0.]\n  [0. 0. 0.]\n  [0. 0. 0.]]\n\n [[0. 0. 0.]\n  [0. 0. 0.]\n  [0. 0. 0.]]\n\n [[0. 0. 0.]\n  [0. 0. 0.]\n  [0. 0. 0.]]]\n(3, 3, 3)\n3\n",
          "output_type": "stream"
        }
      ],
      "execution_count": null
    },
    {
      "cell_type": "code",
      "source": [
        "a=np.array((2,3,))\n",
        "b=np.zeros((2,3))\n",
        "print(a)\n",
        "print(a.ndim)\n",
        "print(b)\n",
        "print(b.ndim)"
      ],
      "metadata": {
        "trusted": true,
        "id": "16GdDX1DbEqO"
      },
      "outputs": [],
      "execution_count": null
    },
    {
      "cell_type": "code",
      "source": [
        "e = np.arange(16)"
      ],
      "metadata": {
        "trusted": true,
        "execution": {
          "iopub.status.busy": "2025-02-01T02:44:44.708405Z",
          "iopub.execute_input": "2025-02-01T02:44:44.708771Z",
          "iopub.status.idle": "2025-02-01T02:44:44.713243Z",
          "shell.execute_reply.started": "2025-02-01T02:44:44.708744Z",
          "shell.execute_reply": "2025-02-01T02:44:44.711985Z"
        },
        "id": "T7iHReBZbEqO"
      },
      "outputs": [],
      "execution_count": null
    },
    {
      "cell_type": "code",
      "source": [
        "e[2:7]    #slicing in an array"
      ],
      "metadata": {
        "trusted": true,
        "execution": {
          "iopub.status.busy": "2025-02-01T02:44:52.987885Z",
          "iopub.execute_input": "2025-02-01T02:44:52.98821Z",
          "iopub.status.idle": "2025-02-01T02:44:52.994216Z",
          "shell.execute_reply.started": "2025-02-01T02:44:52.988186Z",
          "shell.execute_reply": "2025-02-01T02:44:52.993135Z"
        },
        "id": "uOHGLCBtbEqP",
        "outputId": "b554bf76-d6d5-495f-85ee-c55ec46e811a"
      },
      "outputs": [
        {
          "execution_count": 21,
          "output_type": "execute_result",
          "data": {
            "text/plain": "array([2, 3, 4, 5, 6])"
          },
          "metadata": {}
        }
      ],
      "execution_count": null
    },
    {
      "cell_type": "code",
      "source": [
        "f = np.array([[1,2,3],[7,8,9],[4,5,6]])\n",
        "print(f)\n",
        "print(f.shape)\n",
        "print(f.ndim)"
      ],
      "metadata": {
        "trusted": true,
        "execution": {
          "iopub.status.busy": "2025-02-01T02:48:01.098255Z",
          "iopub.execute_input": "2025-02-01T02:48:01.098638Z",
          "iopub.status.idle": "2025-02-01T02:48:01.104952Z",
          "shell.execute_reply.started": "2025-02-01T02:48:01.098608Z",
          "shell.execute_reply": "2025-02-01T02:48:01.103277Z"
        },
        "id": "YVP6B-n6bEqQ",
        "outputId": "f4b896c9-7bab-40d3-a6f9-bdef1a2ad187"
      },
      "outputs": [
        {
          "name": "stdout",
          "text": "[[1 2 3]\n [7 8 9]\n [4 5 6]]\n(3, 3)\n2\n",
          "output_type": "stream"
        }
      ],
      "execution_count": null
    },
    {
      "cell_type": "code",
      "source": [
        "f = np.array([[1,2,3],[7,8,9],[4,5,6]])\n",
        "f\n",
        "print(f.shape)\n",
        "print(f.ndim)"
      ],
      "metadata": {
        "trusted": true,
        "id": "E2VHhdFobEqQ"
      },
      "outputs": [],
      "execution_count": null
    },
    {
      "cell_type": "code",
      "source": [
        "g = np.array([[[1,2,3],[7,8,9],[4,5,6]]])\n",
        "print(f)\n",
        "print(g.shape)\n",
        "print(g.ndim)"
      ],
      "metadata": {
        "trusted": true,
        "execution": {
          "iopub.status.busy": "2025-02-01T02:51:07.151907Z",
          "iopub.execute_input": "2025-02-01T02:51:07.152232Z",
          "iopub.status.idle": "2025-02-01T02:51:07.15962Z",
          "shell.execute_reply.started": "2025-02-01T02:51:07.152207Z",
          "shell.execute_reply": "2025-02-01T02:51:07.158517Z"
        },
        "id": "ud0ammfTbEqQ",
        "outputId": "aae7df9d-8d60-4c92-85b3-b6c61cc3601e"
      },
      "outputs": [
        {
          "name": "stdout",
          "text": "[[[1 2 3]\n  [7 8 9]\n  [4 5 6]]]\n(1, 3, 3)\n3\n",
          "output_type": "stream"
        }
      ],
      "execution_count": null
    },
    {
      "cell_type": "code",
      "source": [
        "g = np.array([[[1,2,3],[7,8,9],[4,5,6]]])\n",
        "print(g)\n",
        "print(g.shape)\n",
        "print(g.ndim)"
      ],
      "metadata": {
        "trusted": true,
        "execution": {
          "iopub.status.busy": "2025-02-01T03:15:29.444253Z",
          "iopub.execute_input": "2025-02-01T03:15:29.444623Z",
          "iopub.status.idle": "2025-02-01T03:15:29.450914Z",
          "shell.execute_reply.started": "2025-02-01T03:15:29.444594Z",
          "shell.execute_reply": "2025-02-01T03:15:29.44959Z"
        },
        "id": "d02-b_Y9bEqR",
        "outputId": "2d723f4c-a470-4278-ef28-6e876385c04d"
      },
      "outputs": [
        {
          "name": "stdout",
          "text": "[[[1 2 3]\n  [7 8 9]\n  [4 5 6]]]\n(1, 3, 3)\n3\n",
          "output_type": "stream"
        }
      ],
      "execution_count": null
    },
    {
      "cell_type": "code",
      "source": [
        "# vstack is a function that stacks arrays vertically (row-wise)\n",
        "# hstack is a function that stacks arrays horizontally (column-wise)"
      ],
      "metadata": {
        "trusted": true,
        "id": "5Kab4ynGbEqR"
      },
      "outputs": [],
      "execution_count": null
    },
    {
      "cell_type": "code",
      "source": [
        "h = np.array([[[1,2,3],[7,8,9],[4,5,6]],[[1,2,3],[7,8,9],[4,5,6]]])\n",
        "print(h)\n",
        "print(h.shape)\n",
        "print(h.ndim)"
      ],
      "metadata": {
        "trusted": true,
        "execution": {
          "iopub.status.busy": "2025-02-01T03:12:03.011848Z",
          "iopub.execute_input": "2025-02-01T03:12:03.012153Z",
          "iopub.status.idle": "2025-02-01T03:12:03.018684Z",
          "shell.execute_reply.started": "2025-02-01T03:12:03.01213Z",
          "shell.execute_reply": "2025-02-01T03:12:03.017611Z"
        },
        "id": "rA97NuEMbEqR",
        "outputId": "4f916771-f5ae-4ffe-ea6e-97e8a5dc02ef"
      },
      "outputs": [
        {
          "name": "stdout",
          "text": "[[[1 2 3]\n  [7 8 9]\n  [4 5 6]]\n\n [[1 2 3]\n  [7 8 9]\n  [4 5 6]]]\n(2, 3, 3)\n3\n",
          "output_type": "stream"
        }
      ],
      "execution_count": null
    },
    {
      "cell_type": "code",
      "source": [
        "i = np.array([[[1,2,3],[7,8,9],[4,5,6]],[[1,2,3],[7,8,9],[4,5,6]],[[1,2,3],[7,8,9],[4,5,6]]])\n",
        "print(i)\n",
        "print(i.shape)\n",
        "print(i.ndim)"
      ],
      "metadata": {
        "trusted": true,
        "execution": {
          "iopub.status.busy": "2025-02-01T03:16:16.872226Z",
          "iopub.execute_input": "2025-02-01T03:16:16.872639Z",
          "iopub.status.idle": "2025-02-01T03:16:16.879072Z",
          "shell.execute_reply.started": "2025-02-01T03:16:16.872607Z",
          "shell.execute_reply": "2025-02-01T03:16:16.877855Z"
        },
        "id": "FANw_tlsbEqR",
        "outputId": "4ac33b8b-0294-4577-fc92-46fe753ab256"
      },
      "outputs": [
        {
          "name": "stdout",
          "text": "[[[1 2 3]\n  [7 8 9]\n  [4 5 6]]\n\n [[1 2 3]\n  [7 8 9]\n  [4 5 6]]\n\n [[1 2 3]\n  [7 8 9]\n  [4 5 6]]]\n(3, 3, 3)\n3\n",
          "output_type": "stream"
        }
      ],
      "execution_count": null
    },
    {
      "cell_type": "code",
      "source": [
        "j = i.reshape(9,3)\n",
        "j\n",
        "print(j.shape)\n",
        "print(j.ndim)"
      ],
      "metadata": {
        "trusted": true,
        "execution": {
          "iopub.status.busy": "2025-02-01T03:18:39.767316Z",
          "iopub.execute_input": "2025-02-01T03:18:39.767682Z",
          "iopub.status.idle": "2025-02-01T03:18:39.773205Z",
          "shell.execute_reply.started": "2025-02-01T03:18:39.767651Z",
          "shell.execute_reply": "2025-02-01T03:18:39.772Z"
        },
        "id": "JKEs7AqCbEqS",
        "outputId": "fc8114e9-49d5-40ba-82e1-d2bd9384940e"
      },
      "outputs": [
        {
          "name": "stdout",
          "text": "(9, 3)\n2\n",
          "output_type": "stream"
        }
      ],
      "execution_count": null
    },
    {
      "cell_type": "code",
      "source": [
        "j.T"
      ],
      "metadata": {
        "trusted": true,
        "execution": {
          "iopub.status.busy": "2025-02-01T03:18:03.19415Z",
          "iopub.execute_input": "2025-02-01T03:18:03.19483Z",
          "iopub.status.idle": "2025-02-01T03:18:03.202077Z",
          "shell.execute_reply.started": "2025-02-01T03:18:03.194789Z",
          "shell.execute_reply": "2025-02-01T03:18:03.200307Z"
        },
        "id": "sVIZI7UpbEqS",
        "outputId": "40ef6361-215b-4e3b-c49e-f5be131c4c74"
      },
      "outputs": [
        {
          "execution_count": 52,
          "output_type": "execute_result",
          "data": {
            "text/plain": "array([[1, 7, 4, 1, 7, 4, 1, 7, 4],\n       [2, 8, 5, 2, 8, 5, 2, 8, 5],\n       [3, 9, 6, 3, 9, 6, 3, 9, 6]])"
          },
          "metadata": {}
        }
      ],
      "execution_count": null
    },
    {
      "cell_type": "code",
      "source": [
        "j = i.reshape(9,3,1)\n",
        "print(j)\n",
        "print(j.shape)\n",
        "print(j.ndim)"
      ],
      "metadata": {
        "trusted": true,
        "id": "ka4GZ7n4bEqS"
      },
      "outputs": [],
      "execution_count": null
    },
    {
      "cell_type": "code",
      "source": [
        "j = i.reshape(1,3,9)\n",
        "print(j)\n",
        "print(j.shape)\n",
        "print(j.ndim)"
      ],
      "metadata": {
        "trusted": true,
        "execution": {
          "iopub.status.busy": "2025-02-01T03:19:55.101343Z",
          "iopub.execute_input": "2025-02-01T03:19:55.101741Z",
          "iopub.status.idle": "2025-02-01T03:19:55.107792Z",
          "shell.execute_reply.started": "2025-02-01T03:19:55.101709Z",
          "shell.execute_reply": "2025-02-01T03:19:55.106624Z"
        },
        "id": "jW8QIJnVbEqS",
        "outputId": "78e01a6d-e553-4231-b7ef-adcc20d74613"
      },
      "outputs": [
        {
          "name": "stdout",
          "text": "[[[1 2 3 7 8 9 4 5 6]\n  [1 2 3 7 8 9 4 5 6]\n  [1 2 3 7 8 9 4 5 6]]]\n(1, 3, 9)\n3\n",
          "output_type": "stream"
        }
      ],
      "execution_count": null
    },
    {
      "cell_type": "code",
      "source": [
        "i\n",
        "i.ndim\n",
        "i.shape\n",
        "i.size"
      ],
      "metadata": {
        "trusted": true,
        "execution": {
          "iopub.status.busy": "2025-02-01T03:23:23.259816Z",
          "iopub.execute_input": "2025-02-01T03:23:23.260133Z",
          "iopub.status.idle": "2025-02-01T03:23:23.266075Z",
          "shell.execute_reply.started": "2025-02-01T03:23:23.260108Z",
          "shell.execute_reply": "2025-02-01T03:23:23.265042Z"
        },
        "id": "dC293hjjbEqT",
        "outputId": "61060512-0bc8-4de1-aaff-79920cde3aae"
      },
      "outputs": [
        {
          "execution_count": 67,
          "output_type": "execute_result",
          "data": {
            "text/plain": "(3, 3, 3)"
          },
          "metadata": {}
        }
      ],
      "execution_count": null
    },
    {
      "cell_type": "code",
      "source": [
        "j\n",
        "j.ndim\n",
        "j.shape\n"
      ],
      "metadata": {
        "trusted": true,
        "execution": {
          "iopub.status.busy": "2025-02-01T03:28:03.907406Z",
          "iopub.execute_input": "2025-02-01T03:28:03.907813Z",
          "iopub.status.idle": "2025-02-01T03:28:03.914001Z",
          "shell.execute_reply.started": "2025-02-01T03:28:03.907784Z",
          "shell.execute_reply": "2025-02-01T03:28:03.912911Z"
        },
        "id": "ls8y6rHwbEqT",
        "outputId": "3010fa97-8788-4a16-fe44-dca9659e5f25"
      },
      "outputs": [
        {
          "execution_count": 71,
          "output_type": "execute_result",
          "data": {
            "text/plain": "(1, 3, 9)"
          },
          "metadata": {}
        }
      ],
      "execution_count": null
    },
    {
      "cell_type": "code",
      "source": [
        "k = i.reshape(3,3,3)"
      ],
      "metadata": {
        "trusted": true,
        "execution": {
          "iopub.status.busy": "2025-02-01T03:29:24.796143Z",
          "iopub.execute_input": "2025-02-01T03:29:24.796514Z",
          "iopub.status.idle": "2025-02-01T03:29:24.800943Z",
          "shell.execute_reply.started": "2025-02-01T03:29:24.796465Z",
          "shell.execute_reply": "2025-02-01T03:29:24.799742Z"
        },
        "id": "h8_VZIlVbEqT"
      },
      "outputs": [],
      "execution_count": null
    },
    {
      "cell_type": "code",
      "source": [
        "l = np.concatenate((i,k), axis = 1)\n",
        "print(l)"
      ],
      "metadata": {
        "trusted": true,
        "execution": {
          "iopub.status.busy": "2025-02-01T03:31:42.974404Z",
          "iopub.execute_input": "2025-02-01T03:31:42.974775Z",
          "iopub.status.idle": "2025-02-01T03:31:42.979754Z",
          "shell.execute_reply.started": "2025-02-01T03:31:42.974745Z",
          "shell.execute_reply": "2025-02-01T03:31:42.97859Z"
        },
        "id": "v3mEP4YHbEqT",
        "outputId": "9b38f7c3-ad4d-4d62-c88a-d4cda0312108"
      },
      "outputs": [
        {
          "name": "stdout",
          "text": "[[[1 2 3]\n  [7 8 9]\n  [4 5 6]\n  [1 2 3]\n  [7 8 9]\n  [4 5 6]]\n\n [[1 2 3]\n  [7 6 9]\n  [4 5 6]\n  [1 2 3]\n  [7 8 9]\n  [4 5 6]]\n\n [[1 2 3]\n  [7 8 9]\n  [4 5 6]\n  [1 2 3]\n  [7 8 9]\n  [4 5 6]]]\n",
          "output_type": "stream"
        }
      ],
      "execution_count": null
    },
    {
      "cell_type": "code",
      "source": [
        "h = l.flatten()\n",
        "h"
      ],
      "metadata": {
        "trusted": true,
        "execution": {
          "iopub.status.busy": "2025-02-01T03:33:36.260114Z",
          "iopub.execute_input": "2025-02-01T03:33:36.260521Z",
          "iopub.status.idle": "2025-02-01T03:33:36.267189Z",
          "shell.execute_reply.started": "2025-02-01T03:33:36.260463Z",
          "shell.execute_reply": "2025-02-01T03:33:36.266188Z"
        },
        "id": "m0kyU3s3bEqT",
        "outputId": "5ec4fd9b-d3aa-4648-c7c7-9d37511fee7e"
      },
      "outputs": [
        {
          "execution_count": 89,
          "output_type": "execute_result",
          "data": {
            "text/plain": "array([1, 2, 3, 7, 8, 9, 4, 5, 6, 1, 2, 3, 7, 8, 9, 4, 5, 6, 1, 2, 3, 6,\n       6, 6, 6, 5, 6, 6, 2, 6, 6, 8, 6, 6, 5, 6, 1, 2, 3, 6, 8, 6, 6, 5,\n       6, 6, 2, 6, 6, 8, 6, 6, 5, 6])"
          },
          "metadata": {}
        }
      ],
      "execution_count": null
    },
    {
      "cell_type": "code",
      "source": [
        "np.hstack(i)"
      ],
      "metadata": {
        "trusted": true,
        "execution": {
          "iopub.status.busy": "2025-02-01T03:35:10.269559Z",
          "iopub.execute_input": "2025-02-01T03:35:10.26991Z",
          "iopub.status.idle": "2025-02-01T03:35:10.275929Z",
          "shell.execute_reply.started": "2025-02-01T03:35:10.269884Z",
          "shell.execute_reply": "2025-02-01T03:35:10.274914Z"
        },
        "id": "P_gQKl1hbEqU",
        "outputId": "6ca6854f-f761-4cdc-80df-b43b2b856dc1"
      },
      "outputs": [
        {
          "execution_count": 96,
          "output_type": "execute_result",
          "data": {
            "text/plain": "array([[1, 2, 3, 1, 2, 3, 1, 2, 3],\n       [7, 8, 9, 7, 8, 9, 7, 8, 9],\n       [4, 5, 6, 4, 5, 6, 4, 5, 6]])"
          },
          "metadata": {}
        }
      ],
      "execution_count": null
    },
    {
      "cell_type": "code",
      "source": [
        "np.vstack(i)"
      ],
      "metadata": {
        "trusted": true,
        "execution": {
          "iopub.status.busy": "2025-02-01T03:35:27.991373Z",
          "iopub.execute_input": "2025-02-01T03:35:27.991762Z",
          "iopub.status.idle": "2025-02-01T03:35:27.997894Z",
          "shell.execute_reply.started": "2025-02-01T03:35:27.991732Z",
          "shell.execute_reply": "2025-02-01T03:35:27.996753Z"
        },
        "id": "nEzhqzG3bEqU",
        "outputId": "dc302e93-3dec-4500-c532-e0feff415340"
      },
      "outputs": [
        {
          "execution_count": 97,
          "output_type": "execute_result",
          "data": {
            "text/plain": "array([[1, 2, 3],\n       [7, 8, 9],\n       [4, 5, 6],\n       [1, 2, 3],\n       [7, 8, 9],\n       [4, 5, 6],\n       [1, 2, 3],\n       [7, 8, 9],\n       [4, 5, 6]])"
          },
          "metadata": {}
        }
      ],
      "execution_count": null
    },
    {
      "cell_type": "code",
      "source": [
        "np.full([2,3], 44)"
      ],
      "metadata": {
        "trusted": true,
        "execution": {
          "iopub.status.busy": "2025-02-01T06:36:06.466725Z",
          "iopub.execute_input": "2025-02-01T06:36:06.467357Z",
          "iopub.status.idle": "2025-02-01T06:36:06.57055Z",
          "shell.execute_reply.started": "2025-02-01T06:36:06.467298Z",
          "shell.execute_reply": "2025-02-01T06:36:06.568204Z"
        },
        "id": "grAzamxpbEqV",
        "outputId": "764f9e54-f2ab-4a36-98cb-bbaa6f53ea79"
      },
      "outputs": [
        {
          "traceback": [
            "\u001b[0;31m---------------------------------------------------------------------------\u001b[0m",
            "\u001b[0;31mNameError\u001b[0m                                 Traceback (most recent call last)",
            "\u001b[0;32m<ipython-input-1-ce6e187a932d>\u001b[0m in \u001b[0;36m<cell line: 1>\u001b[0;34m()\u001b[0m\n\u001b[0;32m----> 1\u001b[0;31m \u001b[0mnp\u001b[0m\u001b[0;34m.\u001b[0m\u001b[0mfull\u001b[0m\u001b[0;34m(\u001b[0m\u001b[0;34m[\u001b[0m\u001b[0;36m2\u001b[0m\u001b[0;34m,\u001b[0m\u001b[0;36m3\u001b[0m\u001b[0;34m]\u001b[0m\u001b[0;34m,\u001b[0m \u001b[0;36m44\u001b[0m\u001b[0;34m)\u001b[0m\u001b[0;34m\u001b[0m\u001b[0;34m\u001b[0m\u001b[0m\n\u001b[0m",
            "\u001b[0;31mNameError\u001b[0m: name 'np' is not defined"
          ],
          "ename": "NameError",
          "evalue": "name 'np' is not defined",
          "output_type": "error"
        }
      ],
      "execution_count": null
    },
    {
      "cell_type": "code",
      "source": [
        "df[‘student_cat’] = np.where(df[‘score’] > 80, ‘good’, ‘bad’)"
      ],
      "metadata": {
        "trusted": true,
        "id": "6yPvpAWibEqV"
      },
      "outputs": [],
      "execution_count": null
    },
    {
      "cell_type": "code",
      "source": [
        "import numpy as np\n",
        "#array >30\n",
        "arr = np.array([[10, 15, 20, 25],\n",
        "                  [30, 35, 40, 45],\n",
        "                  [50, 55, 60, 65]])"
      ],
      "metadata": {
        "trusted": true,
        "execution": {
          "iopub.status.busy": "2025-02-01T06:41:12.389169Z",
          "iopub.execute_input": "2025-02-01T06:41:12.389556Z",
          "iopub.status.idle": "2025-02-01T06:41:12.395064Z",
          "shell.execute_reply.started": "2025-02-01T06:41:12.389526Z",
          "shell.execute_reply": "2025-02-01T06:41:12.393988Z"
        },
        "id": "ewhF1Ie4bEqW"
      },
      "outputs": [],
      "execution_count": null
    },
    {
      "cell_type": "code",
      "source": [
        "# arr = np.where(arr > 30, \"good\" \"bad\")\n",
        "# arr"
      ],
      "metadata": {
        "trusted": true,
        "execution": {
          "iopub.status.busy": "2025-02-01T06:39:43.372026Z",
          "iopub.execute_input": "2025-02-01T06:39:43.372401Z",
          "iopub.status.idle": "2025-02-01T06:39:43.384871Z",
          "shell.execute_reply.started": "2025-02-01T06:39:43.372367Z",
          "shell.execute_reply": "2025-02-01T06:39:43.383407Z"
        },
        "id": "dcmxdgGPbEqW",
        "outputId": "b4f3b280-7489-4d37-8019-813307875d8a"
      },
      "outputs": [
        {
          "traceback": [
            "\u001b[0;31m---------------------------------------------------------------------------\u001b[0m",
            "\u001b[0;31mValueError\u001b[0m                                Traceback (most recent call last)",
            "\u001b[0;32m<ipython-input-7-38024d7bfdf9>\u001b[0m in \u001b[0;36m<cell line: 1>\u001b[0;34m()\u001b[0m\n\u001b[0;32m----> 1\u001b[0;31m \u001b[0marr\u001b[0m \u001b[0;34m=\u001b[0m \u001b[0mnp\u001b[0m\u001b[0;34m.\u001b[0m\u001b[0mwhere\u001b[0m\u001b[0;34m(\u001b[0m\u001b[0marr\u001b[0m \u001b[0;34m>\u001b[0m \u001b[0;36m30\u001b[0m\u001b[0;34m,\u001b[0m \u001b[0;34m\"good\"\u001b[0m \u001b[0;34m\"bad\"\u001b[0m\u001b[0;34m)\u001b[0m\u001b[0;34m\u001b[0m\u001b[0;34m\u001b[0m\u001b[0m\n\u001b[0m\u001b[1;32m      2\u001b[0m \u001b[0marr\u001b[0m\u001b[0;34m\u001b[0m\u001b[0;34m\u001b[0m\u001b[0m\n",
            "\u001b[0;31mValueError\u001b[0m: either both or neither of x and y should be given"
          ],
          "ename": "ValueError",
          "evalue": "either both or neither of x and y should be given",
          "output_type": "error"
        }
      ],
      "execution_count": null
    },
    {
      "cell_type": "code",
      "source": [
        "arr[1:,:]"
      ],
      "metadata": {
        "trusted": true,
        "execution": {
          "iopub.status.busy": "2025-02-01T06:38:10.191034Z",
          "iopub.execute_input": "2025-02-01T06:38:10.191445Z",
          "iopub.status.idle": "2025-02-01T06:38:10.198141Z",
          "shell.execute_reply.started": "2025-02-01T06:38:10.191412Z",
          "shell.execute_reply": "2025-02-01T06:38:10.196852Z"
        },
        "id": "VIeRoIn_bEqX",
        "outputId": "ec58894f-5b1c-4b11-aace-972a3d4ee5a7"
      },
      "outputs": [
        {
          "execution_count": 4,
          "output_type": "execute_result",
          "data": {
            "text/plain": "array([[30, 35, 40, 45],\n       [50, 55, 60, 65]])"
          },
          "metadata": {}
        }
      ],
      "execution_count": null
    },
    {
      "cell_type": "code",
      "source": [
        "condition = arr > 30\n",
        "condition"
      ],
      "metadata": {
        "trusted": true,
        "execution": {
          "iopub.status.busy": "2025-02-01T06:41:28.677435Z",
          "iopub.execute_input": "2025-02-01T06:41:28.677871Z",
          "iopub.status.idle": "2025-02-01T06:41:28.68419Z",
          "shell.execute_reply.started": "2025-02-01T06:41:28.677835Z",
          "shell.execute_reply": "2025-02-01T06:41:28.683011Z"
        },
        "id": "q_3lkEwdbEqX",
        "outputId": "2cab10dc-02ac-4ffb-d799-424b4d966f7a"
      },
      "outputs": [
        {
          "execution_count": 11,
          "output_type": "execute_result",
          "data": {
            "text/plain": "array([[False, False, False, False],\n       [False,  True,  True,  True],\n       [ True,  True,  True,  True]])"
          },
          "metadata": {}
        }
      ],
      "execution_count": null
    },
    {
      "cell_type": "code",
      "source": [
        "arr[arr>30]"
      ],
      "metadata": {
        "trusted": true,
        "execution": {
          "iopub.status.busy": "2025-02-01T06:42:21.405963Z",
          "iopub.execute_input": "2025-02-01T06:42:21.406318Z",
          "iopub.status.idle": "2025-02-01T06:42:21.412736Z",
          "shell.execute_reply.started": "2025-02-01T06:42:21.406287Z",
          "shell.execute_reply": "2025-02-01T06:42:21.411587Z"
        },
        "id": "3n4IJBIabEqX",
        "outputId": "83976c79-b845-4d98-ed11-0824891983a5"
      },
      "outputs": [
        {
          "execution_count": 12,
          "output_type": "execute_result",
          "data": {
            "text/plain": "array([35, 40, 45, 50, 55, 60, 65])"
          },
          "metadata": {}
        }
      ],
      "execution_count": null
    },
    {
      "cell_type": "code",
      "source": [
        "# Importing Numpy module\n",
        "import numpy as np\n",
        "\n",
        "# Creating a 2-D Numpy array\n",
        "n_arr = np.array([[45.42436315, 52.48558583, 10.32924763],\n",
        "                  [5.7439979, 50.58220701, 25.38213418]])\n",
        "print(\"Given array:\")\n",
        "print(n_arr)\n",
        "\n",
        "print(\"\\nReplace all elements of array which are greater than 30. to 5.25\")\n",
        "n_arr[n_arr>30]=5.25\n",
        "n_arr"
      ],
      "metadata": {
        "trusted": true,
        "execution": {
          "iopub.status.busy": "2025-02-01T06:46:02.695709Z",
          "iopub.execute_input": "2025-02-01T06:46:02.696062Z",
          "iopub.status.idle": "2025-02-01T06:46:02.7057Z",
          "shell.execute_reply.started": "2025-02-01T06:46:02.696035Z",
          "shell.execute_reply": "2025-02-01T06:46:02.704529Z"
        },
        "id": "67bmYcMNbEqY",
        "outputId": "7410046e-46c0-4ae0-dd42-f60a3076f09b"
      },
      "outputs": [
        {
          "name": "stdout",
          "text": "Given array:\n[[45.42436315 52.48558583 10.32924763]\n [ 5.7439979  50.58220701 25.38213418]]\n\nReplace all elements of array which are greater than 30. to 5.25\n",
          "output_type": "stream"
        },
        {
          "execution_count": 15,
          "output_type": "execute_result",
          "data": {
            "text/plain": "array([[ 5.25      ,  5.25      , 10.32924763],\n       [ 5.7439979 ,  5.25      , 25.38213418]])"
          },
          "metadata": {}
        }
      ],
      "execution_count": null
    },
    {
      "cell_type": "code",
      "source": [
        "n_arr = np.array([[[11, 25.5, 70.6], [30.9, 45.5, 55.9], [20.7, 45.8, 7.1]],\n",
        "                  [[50.1, 65.9, 8.2], [70.4, 85.8, 10.3], [11.3, 22.2, 33.6]],\n",
        "                  [[19.9, 69.7, 36.8], [1.2, 5.1, 24.4], [4.9, 20.8, 96.7]]])\n",
        "\n",
        "print(\"Given array:\")\n",
        "print(n_arr)\n",
        "\n",
        "print(\"\\nReplace all elements of array which are less than 10 to Nan\")\n",
        "n_arr[n_arr < 10.] = np.nan\n",
        "\n",
        "print(\"New array :\\n\")\n",
        "print(n_arr)"
      ],
      "metadata": {
        "trusted": true,
        "execution": {
          "iopub.status.busy": "2025-02-01T07:48:17.000168Z",
          "iopub.execute_input": "2025-02-01T07:48:17.000558Z",
          "iopub.status.idle": "2025-02-01T07:48:17.111351Z",
          "shell.execute_reply.started": "2025-02-01T07:48:17.00053Z",
          "shell.execute_reply": "2025-02-01T07:48:17.109972Z"
        },
        "id": "Eh92P6aWbEqY",
        "outputId": "fd78c0b0-4b30-4915-b3b9-e1c81e03b9c8"
      },
      "outputs": [
        {
          "traceback": [
            "\u001b[0;31m---------------------------------------------------------------------------\u001b[0m",
            "\u001b[0;31mNameError\u001b[0m                                 Traceback (most recent call last)",
            "\u001b[0;32m<ipython-input-1-9c3dd390e339>\u001b[0m in \u001b[0;36m<cell line: 1>\u001b[0;34m()\u001b[0m\n\u001b[0;32m----> 1\u001b[0;31m n_arr = np.array([[[11, 25.5, 70.6], [30.9, 45.5, 55.9], [20.7, 45.8, 7.1]], \n\u001b[0m\u001b[1;32m      2\u001b[0m                   \u001b[0;34m[\u001b[0m\u001b[0;34m[\u001b[0m\u001b[0;36m50.1\u001b[0m\u001b[0;34m,\u001b[0m \u001b[0;36m65.9\u001b[0m\u001b[0;34m,\u001b[0m \u001b[0;36m8.2\u001b[0m\u001b[0;34m]\u001b[0m\u001b[0;34m,\u001b[0m \u001b[0;34m[\u001b[0m\u001b[0;36m70.4\u001b[0m\u001b[0;34m,\u001b[0m \u001b[0;36m85.8\u001b[0m\u001b[0;34m,\u001b[0m \u001b[0;36m10.3\u001b[0m\u001b[0;34m]\u001b[0m\u001b[0;34m,\u001b[0m \u001b[0;34m[\u001b[0m\u001b[0;36m11.3\u001b[0m\u001b[0;34m,\u001b[0m \u001b[0;36m22.2\u001b[0m\u001b[0;34m,\u001b[0m \u001b[0;36m33.6\u001b[0m\u001b[0;34m]\u001b[0m\u001b[0;34m]\u001b[0m\u001b[0;34m,\u001b[0m\u001b[0;34m\u001b[0m\u001b[0;34m\u001b[0m\u001b[0m\n\u001b[1;32m      3\u001b[0m                   [[19.9, 69.7, 36.8], [1.2, 5.1, 24.4], [4.9, 20.8, 96.7]]]) \n\u001b[1;32m      4\u001b[0m \u001b[0;34m\u001b[0m\u001b[0m\n\u001b[1;32m      5\u001b[0m \u001b[0mprint\u001b[0m\u001b[0;34m(\u001b[0m\u001b[0;34m\"Given array:\"\u001b[0m\u001b[0;34m)\u001b[0m\u001b[0;34m\u001b[0m\u001b[0;34m\u001b[0m\u001b[0m\n",
            "\u001b[0;31mNameError\u001b[0m: name 'np' is not defined"
          ],
          "ename": "NameError",
          "evalue": "name 'np' is not defined",
          "output_type": "error"
        }
      ],
      "execution_count": null
    },
    {
      "cell_type": "code",
      "source": [
        "# Importing Numpy module\n",
        "import numpy as np\n",
        "\n",
        "# Creating a 2-D Numpy array\n",
        "n_arr = np.array([[45, 52, 10],\n",
        "                  [1, 5, 25]])\n",
        "\n",
        "print(\"Given array:\")\n",
        "print(n_arr)\n",
        "\n",
        "#print(\"\\nReplace all elements of array which are \\ greater than or equal to 25 to 0\")\n",
        "\n",
        "n_arr[n_arr>=25]=0\n",
        "n_arr"
      ],
      "metadata": {
        "trusted": true,
        "execution": {
          "iopub.status.busy": "2025-02-01T07:48:25.611943Z",
          "iopub.execute_input": "2025-02-01T07:48:25.612299Z",
          "iopub.status.idle": "2025-02-01T07:48:25.620776Z",
          "shell.execute_reply.started": "2025-02-01T07:48:25.612271Z",
          "shell.execute_reply": "2025-02-01T07:48:25.619744Z"
        },
        "id": "KF4SAZjEbEqZ",
        "outputId": "ba9f7bf1-f5d2-45ae-f38a-acaea66503a7"
      },
      "outputs": [
        {
          "name": "stdout",
          "text": "Given array:\n[[45 52 10]\n [ 1  5 25]]\n",
          "output_type": "stream"
        },
        {
          "execution_count": 3,
          "output_type": "execute_result",
          "data": {
            "text/plain": "array([[ 0,  0, 10],\n       [ 1,  5,  0]])"
          },
          "metadata": {}
        }
      ],
      "execution_count": null
    },
    {
      "cell_type": "code",
      "source": [
        "# https://www.geeksforgeeks.org/python-numpy-practice-exercises-questions-and-solutions (for practice)"
      ],
      "metadata": {
        "trusted": true,
        "id": "8bcA22FGbEqZ"
      },
      "outputs": [],
      "execution_count": null
    },
    {
      "cell_type": "code",
      "source": [
        "print(n_arr*2)\n",
        "print(n_arr-2)\n",
        "print(n_arr+2)\n",
        "print(n_arr/2)"
      ],
      "metadata": {
        "trusted": true,
        "execution": {
          "iopub.status.busy": "2025-02-01T07:49:14.490172Z",
          "iopub.execute_input": "2025-02-01T07:49:14.490533Z",
          "iopub.status.idle": "2025-02-01T07:49:14.497373Z",
          "shell.execute_reply.started": "2025-02-01T07:49:14.490507Z",
          "shell.execute_reply": "2025-02-01T07:49:14.496292Z"
        },
        "id": "mQAL7AMEbEqh",
        "outputId": "19aa8c3c-f3c5-44e7-9fe9-0402cd87c4c2"
      },
      "outputs": [
        {
          "name": "stdout",
          "text": "[[ 0  0 20]\n [ 2 10  0]]\n[[-2 -2  8]\n [-1  3 -2]]\n[[ 2  2 12]\n [ 3  7  2]]\n[[0.  0.  5. ]\n [0.5 2.5 0. ]]\n",
          "output_type": "stream"
        }
      ],
      "execution_count": null
    },
    {
      "cell_type": "code",
      "source": [
        "a = np.array([[1, 2, 3], [2, 4, 5], [1, 2, 3]])\n",
        "b = np.array([0, 2,3])"
      ],
      "metadata": {
        "trusted": true,
        "execution": {
          "iopub.status.busy": "2025-02-01T07:50:41.424173Z",
          "iopub.execute_input": "2025-02-01T07:50:41.424574Z",
          "iopub.status.idle": "2025-02-01T07:50:41.429582Z",
          "shell.execute_reply.started": "2025-02-01T07:50:41.424537Z",
          "shell.execute_reply": "2025-02-01T07:50:41.428314Z"
        },
        "id": "309PB7e-bEqi"
      },
      "outputs": [],
      "execution_count": null
    },
    {
      "cell_type": "code",
      "source": [
        "a*b"
      ],
      "metadata": {
        "trusted": true,
        "execution": {
          "iopub.status.busy": "2025-02-01T07:50:43.592337Z",
          "iopub.execute_input": "2025-02-01T07:50:43.592698Z",
          "iopub.status.idle": "2025-02-01T07:50:43.598494Z",
          "shell.execute_reply.started": "2025-02-01T07:50:43.592667Z",
          "shell.execute_reply": "2025-02-01T07:50:43.597616Z"
        },
        "id": "Z0d9LIM4bEqi",
        "outputId": "742f3536-8121-4cb0-8b4e-cbf5507ec4e1"
      },
      "outputs": [
        {
          "execution_count": 12,
          "output_type": "execute_result",
          "data": {
            "text/plain": "array([[ 0,  4,  9],\n       [ 0,  8, 15],\n       [ 0,  4,  9]])"
          },
          "metadata": {}
        }
      ],
      "execution_count": null
    },
    {
      "cell_type": "code",
      "source": [
        "n_arr = np.array([[[11, 25.5, 70.6], [30.9, 45.5, 55.9], [20.7, 45.8, 7.1]],\n",
        "                  [[50.1, 65.9, 8.2], [70.4, 85.8, 10.3], [11.3, 22.2, 33.6]],\n",
        "                  [[19.9, 69.7, 36.8], [1.2, 5.1, 24.4], [4.9, 20.8, 96.7]]])"
      ],
      "metadata": {
        "trusted": true,
        "execution": {
          "iopub.status.busy": "2025-02-01T07:52:04.530828Z",
          "iopub.execute_input": "2025-02-01T07:52:04.531134Z",
          "iopub.status.idle": "2025-02-01T07:52:04.536161Z",
          "shell.execute_reply.started": "2025-02-01T07:52:04.53111Z",
          "shell.execute_reply": "2025-02-01T07:52:04.535106Z"
        },
        "id": "6S_74xQibEqi"
      },
      "outputs": [],
      "execution_count": null
    },
    {
      "cell_type": "code",
      "source": [
        "n_arr"
      ],
      "metadata": {
        "trusted": true,
        "execution": {
          "iopub.status.busy": "2025-02-01T07:52:09.729599Z",
          "iopub.execute_input": "2025-02-01T07:52:09.730049Z",
          "iopub.status.idle": "2025-02-01T07:52:09.737384Z",
          "shell.execute_reply.started": "2025-02-01T07:52:09.730014Z",
          "shell.execute_reply": "2025-02-01T07:52:09.736108Z"
        },
        "id": "SCVHcWJ0bEqi",
        "outputId": "41f52006-2616-4bc2-b2fa-6fbc9f153997"
      },
      "outputs": [
        {
          "execution_count": 14,
          "output_type": "execute_result",
          "data": {
            "text/plain": "array([[[11. , 25.5, 70.6],\n        [30.9, 45.5, 55.9],\n        [20.7, 45.8,  7.1]],\n\n       [[50.1, 65.9,  8.2],\n        [70.4, 85.8, 10.3],\n        [11.3, 22.2, 33.6]],\n\n       [[19.9, 69.7, 36.8],\n        [ 1.2,  5.1, 24.4],\n        [ 4.9, 20.8, 96.7]]])"
          },
          "metadata": {}
        }
      ],
      "execution_count": null
    },
    {
      "cell_type": "code",
      "source": [
        "n_arr*b"
      ],
      "metadata": {
        "trusted": true,
        "execution": {
          "iopub.status.busy": "2025-02-01T07:52:43.932252Z",
          "iopub.execute_input": "2025-02-01T07:52:43.932582Z",
          "iopub.status.idle": "2025-02-01T07:52:43.93914Z",
          "shell.execute_reply.started": "2025-02-01T07:52:43.932559Z",
          "shell.execute_reply": "2025-02-01T07:52:43.938104Z"
        },
        "id": "HvSr7xsVbEqi",
        "outputId": "43c6cb61-22bf-4d50-ede9-77693be66c9f"
      },
      "outputs": [
        {
          "execution_count": 15,
          "output_type": "execute_result",
          "data": {
            "text/plain": "array([[[  0. ,  51. , 211.8],\n        [  0. ,  91. , 167.7],\n        [  0. ,  91.6,  21.3]],\n\n       [[  0. , 131.8,  24.6],\n        [  0. , 171.6,  30.9],\n        [  0. ,  44.4, 100.8]],\n\n       [[  0. , 139.4, 110.4],\n        [  0. ,  10.2,  73.2],\n        [  0. ,  41.6, 290.1]]])"
          },
          "metadata": {}
        }
      ],
      "execution_count": null
    },
    {
      "cell_type": "markdown",
      "source": [
        "matrix multiplication in NumPy (or any linear algebra), the number of columns in the first matrix should be equal to the number of rows in the second matrix.\n",
        "\n",
        "In other words, if you have two matrices:\n",
        "\n",
        "Matrix A of shape (m, n) (m rows, n columns)\n",
        "Matrix B of shape (p, q) (p rows, q columns)\n",
        "For matrix multiplication (A @ B) to be valid, the number of columns in A (which is n) must equal the number of rows in B (which is p). The resulting matrix will have a shape of (m, q). [CR]\n",
        "\n",
        "So, in mathematical terms:\n",
        "\n",
        "n == p\n",
        "The result will be a matrix of shape (m, q).\n",
        "Let me know if you'd like an example!"
      ],
      "metadata": {
        "id": "E44gHQs1bEqj"
      }
    },
    {
      "cell_type": "code",
      "source": [
        "# Define matrix A (2x3)\n",
        "A = np.array([[1, 2, 3],\n",
        "              [4, 5, 6]])\n",
        "\n",
        "# Define matrix B (3x2)\n",
        "B = np.array([[7, 8],\n",
        "              [9, 10],\n",
        "              [11, 12]])\n",
        "\n",
        "# Multiply matrices A and B\n",
        "C = np.dot(A, B)"
      ],
      "metadata": {
        "trusted": true,
        "execution": {
          "iopub.status.busy": "2025-02-01T07:56:47.235671Z",
          "iopub.execute_input": "2025-02-01T07:56:47.236055Z",
          "iopub.status.idle": "2025-02-01T07:56:47.241099Z",
          "shell.execute_reply.started": "2025-02-01T07:56:47.236024Z",
          "shell.execute_reply": "2025-02-01T07:56:47.240042Z"
        },
        "id": "judbZJiKbEqj"
      },
      "outputs": [],
      "execution_count": null
    },
    {
      "cell_type": "code",
      "source": [
        "C"
      ],
      "metadata": {
        "trusted": true,
        "execution": {
          "iopub.status.busy": "2025-02-01T07:56:52.100415Z",
          "iopub.execute_input": "2025-02-01T07:56:52.10083Z",
          "iopub.status.idle": "2025-02-01T07:56:52.106875Z",
          "shell.execute_reply.started": "2025-02-01T07:56:52.100801Z",
          "shell.execute_reply": "2025-02-01T07:56:52.105885Z"
        },
        "id": "UDo42f7FbEqj",
        "outputId": "9a11486c-c7e6-4376-d182-6674bd99f3ea"
      },
      "outputs": [
        {
          "execution_count": 17,
          "output_type": "execute_result",
          "data": {
            "text/plain": "array([[ 58,  64],\n       [139, 154]])"
          },
          "metadata": {}
        }
      ],
      "execution_count": null
    },
    {
      "cell_type": "code",
      "source": [
        "arr = np.random.randn(10,10)\n",
        "print(arr)\n",
        "arr1 = np.round(arr,2)\n",
        "print(arr1)"
      ],
      "metadata": {
        "trusted": true,
        "execution": {
          "iopub.status.busy": "2025-02-01T08:31:38.442297Z",
          "iopub.execute_input": "2025-02-01T08:31:38.442647Z",
          "iopub.status.idle": "2025-02-01T08:31:38.450315Z",
          "shell.execute_reply.started": "2025-02-01T08:31:38.442621Z",
          "shell.execute_reply": "2025-02-01T08:31:38.449427Z"
        },
        "id": "sfAVbSyUbEqj",
        "outputId": "206e07a2-e28d-4837-f61b-3260582b18e7"
      },
      "outputs": [
        {
          "name": "stdout",
          "text": "[[ 0.48795972 -1.03233534  0.19343966 -1.63099642 -1.18776572 -0.20562511\n   0.99665309 -0.14242675  0.14238564  0.4418926 ]\n [ 0.99755281  0.62559799 -0.94552329 -0.61502226 -1.05700729 -0.73248235\n   0.57020804 -1.19524322 -0.34599365 -0.70165727]\n [ 0.97658676  0.39458385 -2.51559372  1.08588252  0.26642115  0.29713886\n  -1.07009026  0.85550623  1.37011855  0.35889208]\n [-0.4102191   0.79181185  0.43249978 -0.19106725 -0.11886778  0.69888801\n   1.33118737  1.60885706  1.11192052  1.61281363]\n [-0.78010794  0.40022844  0.49735602  0.31233926 -1.01117175 -0.72221642\n  -2.16685217 -0.20199927  0.25145866  0.60561417]\n [-1.90233181 -0.82082225 -0.32439868 -0.44339879 -0.83819225  0.06890289\n   1.90690395  0.60252869 -0.72360148  0.72256252]\n [-0.91286847  1.26522298  0.03745491  0.18192798  0.58042146  0.87158036\n  -0.75647535 -0.42627315  0.68077371  0.08136865]\n [-0.40985894 -0.54451399 -0.05478881  1.60355102  0.27205611  1.08119242\n  -0.39960331 -0.42612836 -0.58522716  0.11805033]\n [ 1.01850988  0.70038393 -1.26241098 -0.92182187  1.65498805 -0.92205961\n  -0.73204251 -0.8714834  -0.91117321  0.2904327 ]\n [ 0.09487932 -0.84872018 -0.88502747  0.56625252 -1.83229904  0.79962262\n  -1.25325745  0.19114231  0.86346384 -1.51209424]]\n[[ 0.49 -1.03  0.19 -1.63 -1.19 -0.21  1.   -0.14  0.14  0.44]\n [ 1.    0.63 -0.95 -0.62 -1.06 -0.73  0.57 -1.2  -0.35 -0.7 ]\n [ 0.98  0.39 -2.52  1.09  0.27  0.3  -1.07  0.86  1.37  0.36]\n [-0.41  0.79  0.43 -0.19 -0.12  0.7   1.33  1.61  1.11  1.61]\n [-0.78  0.4   0.5   0.31 -1.01 -0.72 -2.17 -0.2   0.25  0.61]\n [-1.9  -0.82 -0.32 -0.44 -0.84  0.07  1.91  0.6  -0.72  0.72]\n [-0.91  1.27  0.04  0.18  0.58  0.87 -0.76 -0.43  0.68  0.08]\n [-0.41 -0.54 -0.05  1.6   0.27  1.08 -0.4  -0.43 -0.59  0.12]\n [ 1.02  0.7  -1.26 -0.92  1.65 -0.92 -0.73 -0.87 -0.91  0.29]\n [ 0.09 -0.85 -0.89  0.57 -1.83  0.8  -1.25  0.19  0.86 -1.51]]\n",
          "output_type": "stream"
        }
      ],
      "execution_count": null
    },
    {
      "cell_type": "code",
      "source": [
        "print(arr1[1:10:2,::]) #selects all columns sam as :  print(arr1[1:10:2,::])   print(arr1[1:10:2,::])"
      ],
      "metadata": {
        "trusted": true,
        "execution": {
          "iopub.status.busy": "2025-02-01T08:34:13.853234Z",
          "iopub.execute_input": "2025-02-01T08:34:13.85359Z",
          "iopub.status.idle": "2025-02-01T08:34:13.861029Z",
          "shell.execute_reply.started": "2025-02-01T08:34:13.853563Z",
          "shell.execute_reply": "2025-02-01T08:34:13.859462Z"
        },
        "id": "PHEkmmFybEqk",
        "outputId": "7a60a25d-54d0-4d5e-ded8-3fe1d203cdd1"
      },
      "outputs": [
        {
          "name": "stdout",
          "text": "[[ 1.    0.63 -0.95 -0.62 -1.06 -0.73  0.57 -1.2  -0.35 -0.7 ]\n [-0.41  0.79  0.43 -0.19 -0.12  0.7   1.33  1.61  1.11  1.61]\n [-1.9  -0.82 -0.32 -0.44 -0.84  0.07  1.91  0.6  -0.72  0.72]\n [-0.41 -0.54 -0.05  1.6   0.27  1.08 -0.4  -0.43 -0.59  0.12]\n [ 0.09 -0.85 -0.89  0.57 -1.83  0.8  -1.25  0.19  0.86 -1.51]]\n",
          "output_type": "stream"
        }
      ],
      "execution_count": null
    },
    {
      "cell_type": "code",
      "source": [
        "print(arr1[1:10:2,::])"
      ],
      "metadata": {
        "trusted": true,
        "execution": {
          "iopub.status.busy": "2025-02-01T08:38:23.06171Z",
          "iopub.execute_input": "2025-02-01T08:38:23.062049Z",
          "iopub.status.idle": "2025-02-01T08:38:23.068389Z",
          "shell.execute_reply.started": "2025-02-01T08:38:23.062024Z",
          "shell.execute_reply": "2025-02-01T08:38:23.067057Z"
        },
        "id": "1xKzmCHbbEqk",
        "outputId": "aed8171b-ad16-415f-c810-aee50a86e7d7"
      },
      "outputs": [
        {
          "name": "stdout",
          "text": "[[ 1.    0.63 -0.95 -0.62 -1.06 -0.73  0.57 -1.2  -0.35 -0.7 ]\n [-0.41  0.79  0.43 -0.19 -0.12  0.7   1.33  1.61  1.11  1.61]\n [-1.9  -0.82 -0.32 -0.44 -0.84  0.07  1.91  0.6  -0.72  0.72]\n [-0.41 -0.54 -0.05  1.6   0.27  1.08 -0.4  -0.43 -0.59  0.12]\n [ 0.09 -0.85 -0.89  0.57 -1.83  0.8  -1.25  0.19  0.86 -1.51]]\n",
          "output_type": "stream"
        }
      ],
      "execution_count": null
    },
    {
      "cell_type": "code",
      "source": [
        "print(arr1[1:10:2,::])"
      ],
      "metadata": {
        "trusted": true,
        "execution": {
          "iopub.status.busy": "2025-02-01T08:32:19.710766Z",
          "iopub.execute_input": "2025-02-01T08:32:19.711098Z",
          "iopub.status.idle": "2025-02-01T08:32:19.717248Z",
          "shell.execute_reply.started": "2025-02-01T08:32:19.711074Z",
          "shell.execute_reply": "2025-02-01T08:32:19.715976Z"
        },
        "id": "KDvslnHXbEqk",
        "outputId": "61118b5c-6a6a-4c78-ce92-9a97c4df7f2d"
      },
      "outputs": [
        {
          "name": "stdout",
          "text": "[[ 1.    0.63 -0.95 -0.62 -1.06 -0.73  0.57 -1.2  -0.35 -0.7 ]\n [-0.41  0.79  0.43 -0.19 -0.12  0.7   1.33  1.61  1.11  1.61]\n [-1.9  -0.82 -0.32 -0.44 -0.84  0.07  1.91  0.6  -0.72  0.72]\n [-0.41 -0.54 -0.05  1.6   0.27  1.08 -0.4  -0.43 -0.59  0.12]\n [ 0.09 -0.85 -0.89  0.57 -1.83  0.8  -1.25  0.19  0.86 -1.51]]\n",
          "output_type": "stream"
        }
      ],
      "execution_count": null
    },
    {
      "cell_type": "markdown",
      "source": [
        "This selects rows starting from index 1 (second row).\n",
        "Stops before index 10.\n",
        "Skips every second row (i.e., it takes row 1, skips row 2, takes row 3, skips row 4, and so on)"
      ],
      "metadata": {
        "id": "693L1YenbEql"
      }
    },
    {
      "cell_type": "code",
      "source": [
        "data = np.array([['cat', 'dog', 'cat'],['dog','dog','cat'],['cat','cat','dog']])\n",
        "data"
      ],
      "metadata": {
        "trusted": true,
        "execution": {
          "iopub.status.busy": "2025-02-01T08:00:05.921803Z",
          "iopub.execute_input": "2025-02-01T08:00:05.922131Z",
          "iopub.status.idle": "2025-02-01T08:00:05.928346Z",
          "shell.execute_reply.started": "2025-02-01T08:00:05.922107Z",
          "shell.execute_reply": "2025-02-01T08:00:05.927238Z"
        },
        "id": "zLxaYJJKbEql",
        "outputId": "9d02b203-375d-431d-c413-a861ba2373bf"
      },
      "outputs": [
        {
          "execution_count": 19,
          "output_type": "execute_result",
          "data": {
            "text/plain": "array([['cat', 'dog', 'cat'],\n       ['dog', 'dog', 'cat'],\n       ['cat', 'cat', 'dog']], dtype='<U3')"
          },
          "metadata": {}
        }
      ],
      "execution_count": null
    },
    {
      "cell_type": "code",
      "source": [
        "type(data)"
      ],
      "metadata": {
        "trusted": true,
        "execution": {
          "iopub.status.busy": "2025-02-01T08:00:48.773247Z",
          "iopub.execute_input": "2025-02-01T08:00:48.773587Z",
          "iopub.status.idle": "2025-02-01T08:00:48.779648Z",
          "shell.execute_reply.started": "2025-02-01T08:00:48.773562Z",
          "shell.execute_reply": "2025-02-01T08:00:48.778533Z"
        },
        "id": "cx9CVrl_bEqm",
        "outputId": "731ff817-3523-4679-bfdb-42a1d8951c9b"
      },
      "outputs": [
        {
          "execution_count": 22,
          "output_type": "execute_result",
          "data": {
            "text/plain": "numpy.ndarray"
          },
          "metadata": {}
        }
      ],
      "execution_count": null
    },
    {
      "cell_type": "code",
      "source": [
        "data == \"cat\""
      ],
      "metadata": {
        "trusted": true,
        "execution": {
          "iopub.status.busy": "2025-02-01T08:05:49.255847Z",
          "iopub.execute_input": "2025-02-01T08:05:49.256175Z",
          "iopub.status.idle": "2025-02-01T08:05:49.262313Z",
          "shell.execute_reply.started": "2025-02-01T08:05:49.256152Z",
          "shell.execute_reply": "2025-02-01T08:05:49.261439Z"
        },
        "id": "1GXuJ2PpbEqm",
        "outputId": "6d131654-c5da-40c5-f122-16bce027391b"
      },
      "outputs": [
        {
          "execution_count": 28,
          "output_type": "execute_result",
          "data": {
            "text/plain": "array([[ True, False,  True],\n       [False, False,  True],\n       [ True,  True, False]])"
          },
          "metadata": {}
        }
      ],
      "execution_count": null
    },
    {
      "cell_type": "code",
      "source": [
        "values = np.random.randn(3,3)\n",
        "values"
      ],
      "metadata": {
        "trusted": true,
        "execution": {
          "iopub.status.busy": "2025-02-01T08:06:26.77053Z",
          "iopub.execute_input": "2025-02-01T08:06:26.770908Z",
          "iopub.status.idle": "2025-02-01T08:06:26.776947Z",
          "shell.execute_reply.started": "2025-02-01T08:06:26.770874Z",
          "shell.execute_reply": "2025-02-01T08:06:26.776095Z"
        },
        "id": "T5PO8h7ybEqm",
        "outputId": "17236136-b9c9-4e5b-fbcf-98ef0ad734c7"
      },
      "outputs": [
        {
          "execution_count": 30,
          "output_type": "execute_result",
          "data": {
            "text/plain": "array([[-0.33299459, -0.94750881,  1.03053517],\n       [ 0.38496291,  1.44086939, -0.1800066 ],\n       [-2.43398188,  0.6853886 , -0.30583817]])"
          },
          "metadata": {}
        }
      ],
      "execution_count": null
    },
    {
      "cell_type": "code",
      "source": [
        "values[data == \"cat\"]"
      ],
      "metadata": {
        "trusted": true,
        "execution": {
          "iopub.status.busy": "2025-02-01T08:06:45.684871Z",
          "iopub.execute_input": "2025-02-01T08:06:45.685263Z",
          "iopub.status.idle": "2025-02-01T08:06:45.691587Z",
          "shell.execute_reply.started": "2025-02-01T08:06:45.685227Z",
          "shell.execute_reply": "2025-02-01T08:06:45.690653Z"
        },
        "id": "s9FSujapbEqn",
        "outputId": "ac3e57dd-08d6-48db-b28c-fd60067b5315"
      },
      "outputs": [
        {
          "execution_count": 31,
          "output_type": "execute_result",
          "data": {
            "text/plain": "array([-0.33299459,  1.03053517, -0.1800066 , -2.43398188,  0.6853886 ])"
          },
          "metadata": {}
        }
      ],
      "execution_count": null
    },
    {
      "cell_type": "code",
      "source": [
        "subjects = np.array(['math', 'science', 'math', 'english', 'math'])\n",
        "scores = np.array([85, 90, 78, 88, 92])\n",
        "# Create a mask for subjects that are 'math'\n",
        "mask = (subjects == 'math')\n",
        "\n",
        "# Increase scores for 'math' students by 5\n",
        "scores[mask] += 5\n",
        "\n",
        "print(scores)\n"
      ],
      "metadata": {
        "trusted": true,
        "execution": {
          "iopub.status.busy": "2025-02-01T08:15:38.873995Z",
          "iopub.execute_input": "2025-02-01T08:15:38.8744Z",
          "iopub.status.idle": "2025-02-01T08:15:38.880937Z",
          "shell.execute_reply.started": "2025-02-01T08:15:38.874369Z",
          "shell.execute_reply": "2025-02-01T08:15:38.87962Z"
        },
        "id": "gLOZtvXubEqn",
        "outputId": "31cfafd6-b22b-41dd-d892-1231ac96e01e"
      },
      "outputs": [
        {
          "name": "stdout",
          "text": "[90 90 83 88 97]\n",
          "output_type": "stream"
        }
      ],
      "execution_count": null
    },
    {
      "cell_type": "code",
      "source": [
        "scores[2]+2"
      ],
      "metadata": {
        "trusted": true,
        "execution": {
          "iopub.status.busy": "2025-02-01T08:16:17.503026Z",
          "iopub.execute_input": "2025-02-01T08:16:17.503379Z",
          "iopub.status.idle": "2025-02-01T08:16:17.509074Z",
          "shell.execute_reply.started": "2025-02-01T08:16:17.503351Z",
          "shell.execute_reply": "2025-02-01T08:16:17.508214Z"
        },
        "id": "ovmmRTEObEqn",
        "outputId": "9141fd75-1d67-44fd-ae5e-dd6274846786"
      },
      "outputs": [
        {
          "execution_count": 34,
          "output_type": "execute_result",
          "data": {
            "text/plain": "85"
          },
          "metadata": {}
        }
      ],
      "execution_count": null
    },
    {
      "cell_type": "code",
      "source": [
        "subjects = np.concatenate((subjects, ['geography']))\n",
        "subjects = np.append(subjects, 'geography')\n",
        "subjects"
      ],
      "metadata": {
        "trusted": true,
        "execution": {
          "iopub.status.busy": "2025-02-01T08:22:15.202867Z",
          "iopub.execute_input": "2025-02-01T08:22:15.203168Z",
          "iopub.status.idle": "2025-02-01T08:22:15.209813Z",
          "shell.execute_reply.started": "2025-02-01T08:22:15.203146Z",
          "shell.execute_reply": "2025-02-01T08:22:15.208788Z"
        },
        "id": "GGbB51dPbEqn",
        "outputId": "98e185cb-d3c2-4f6f-aa4c-a700099a120d"
      },
      "outputs": [
        {
          "execution_count": 42,
          "output_type": "execute_result",
          "data": {
            "text/plain": "array(['math', 'science', 'math', 'english', 'math', 'geography',\n       'geography', 'geography', 'geography'], dtype='<U9')"
          },
          "metadata": {}
        }
      ],
      "execution_count": null
    },
    {
      "cell_type": "code",
      "source": [
        "import numpy as np\n",
        "\n",
        "# Existing subjects array\n",
        "subjects = np.array(['math', 'science', 'math', 'english', 'math'])\n",
        "\n",
        "# Remove 'science' by creating a mask\n",
        "subjects = subjects[subjects != 'science']\n",
        "\n",
        "print(subjects)"
      ],
      "metadata": {
        "trusted": true,
        "execution": {
          "iopub.status.busy": "2025-02-01T08:25:38.153012Z",
          "iopub.execute_input": "2025-02-01T08:25:38.153377Z",
          "iopub.status.idle": "2025-02-01T08:25:38.159119Z",
          "shell.execute_reply.started": "2025-02-01T08:25:38.153348Z",
          "shell.execute_reply": "2025-02-01T08:25:38.158066Z"
        },
        "id": "IbKG9mKsbEqo",
        "outputId": "3889c48d-ca9d-464a-a0f8-1d5c8102c433"
      },
      "outputs": [
        {
          "name": "stdout",
          "text": "['math' 'math' 'english' 'math']\n",
          "output_type": "stream"
        }
      ],
      "execution_count": null
    },
    {
      "cell_type": "code",
      "source": [
        "#replace by indexing\n",
        "subjects[0]=\"science\""
      ],
      "metadata": {
        "trusted": true,
        "execution": {
          "iopub.status.busy": "2025-02-01T08:26:10.768678Z",
          "iopub.execute_input": "2025-02-01T08:26:10.769068Z",
          "iopub.status.idle": "2025-02-01T08:26:10.773613Z",
          "shell.execute_reply.started": "2025-02-01T08:26:10.769026Z",
          "shell.execute_reply": "2025-02-01T08:26:10.772582Z"
        },
        "id": "x60mRJOAbEqo"
      },
      "outputs": [],
      "execution_count": null
    },
    {
      "cell_type": "code",
      "source": [
        "subjects"
      ],
      "metadata": {
        "trusted": true,
        "execution": {
          "iopub.status.busy": "2025-02-01T08:26:19.104268Z",
          "iopub.execute_input": "2025-02-01T08:26:19.104603Z",
          "iopub.status.idle": "2025-02-01T08:26:19.110066Z",
          "shell.execute_reply.started": "2025-02-01T08:26:19.104578Z",
          "shell.execute_reply": "2025-02-01T08:26:19.109167Z"
        },
        "id": "1h1cc9efbEqo",
        "outputId": "f5cbcba5-f705-45f9-e612-955b72d26b3e"
      },
      "outputs": [
        {
          "execution_count": 51,
          "output_type": "execute_result",
          "data": {
            "text/plain": "array(['science', 'math', 'english', 'math'], dtype='<U7')"
          },
          "metadata": {}
        }
      ],
      "execution_count": null
    },
    {
      "cell_type": "code",
      "source": [
        "subject = subjects[:-1]\n",
        "subject"
      ],
      "metadata": {
        "trusted": true,
        "execution": {
          "iopub.status.busy": "2025-02-01T08:27:46.31146Z",
          "iopub.execute_input": "2025-02-01T08:27:46.311792Z",
          "iopub.status.idle": "2025-02-01T08:27:46.318605Z",
          "shell.execute_reply.started": "2025-02-01T08:27:46.311767Z",
          "shell.execute_reply": "2025-02-01T08:27:46.31714Z"
        },
        "id": "3X3a-GDKbEqp",
        "outputId": "5ebe5765-6568-4238-a2c4-d773258033c3"
      },
      "outputs": [
        {
          "execution_count": 54,
          "output_type": "execute_result",
          "data": {
            "text/plain": "array(['science', 'math', 'english'], dtype='<U7')"
          },
          "metadata": {}
        }
      ],
      "execution_count": null
    },
    {
      "cell_type": "code",
      "source": [
        "subject = subjects[-1]\n",
        "subject"
      ],
      "metadata": {
        "trusted": true,
        "execution": {
          "iopub.status.busy": "2025-02-01T08:28:13.040794Z",
          "iopub.execute_input": "2025-02-01T08:28:13.041098Z",
          "iopub.status.idle": "2025-02-01T08:28:13.04671Z",
          "shell.execute_reply.started": "2025-02-01T08:28:13.041074Z",
          "shell.execute_reply": "2025-02-01T08:28:13.045658Z"
        },
        "id": "AXdqhTMTbEqp",
        "outputId": "60c1672b-78d0-4002-fe8e-aa6afceda17f"
      },
      "outputs": [
        {
          "execution_count": 56,
          "output_type": "execute_result",
          "data": {
            "text/plain": "'math'"
          },
          "metadata": {}
        }
      ],
      "execution_count": null
    },
    {
      "cell_type": "code",
      "source": [
        "array_b = ['product', 'loan', 4000]\n",
        "for idx, ele in enumerate(array_b):\n",
        "    print(idx, ele)"
      ],
      "metadata": {
        "trusted": true,
        "execution": {
          "iopub.status.busy": "2025-02-01T16:47:38.707458Z",
          "iopub.execute_input": "2025-02-01T16:47:38.707806Z",
          "iopub.status.idle": "2025-02-01T16:47:38.713119Z",
          "shell.execute_reply.started": "2025-02-01T16:47:38.70778Z",
          "shell.execute_reply": "2025-02-01T16:47:38.712419Z"
        },
        "id": "4MkmihhNbEqp",
        "outputId": "a440b916-373c-4480-8b86-afa1ddd54517"
      },
      "outputs": [
        {
          "name": "stdout",
          "text": "0 product\n1 loan\n2 4000\n",
          "output_type": "stream"
        }
      ],
      "execution_count": null
    },
    {
      "cell_type": "code",
      "source": [
        "array_b"
      ],
      "metadata": {
        "trusted": true,
        "execution": {
          "iopub.status.busy": "2025-02-01T16:47:40.985197Z",
          "iopub.execute_input": "2025-02-01T16:47:40.985552Z",
          "iopub.status.idle": "2025-02-01T16:47:40.991246Z",
          "shell.execute_reply.started": "2025-02-01T16:47:40.985523Z",
          "shell.execute_reply": "2025-02-01T16:47:40.990325Z"
        },
        "id": "SbU8c0g-bEqp",
        "outputId": "40add671-bf1d-4910-9b9e-5ca31a37488e"
      },
      "outputs": [
        {
          "execution_count": 8,
          "output_type": "execute_result",
          "data": {
            "text/plain": "['product', 'loan', 4000]"
          },
          "metadata": {}
        }
      ],
      "execution_count": null
    },
    {
      "cell_type": "code",
      "source": [
        "array_b[2]=str(array_b[2])"
      ],
      "metadata": {
        "trusted": true,
        "execution": {
          "iopub.status.busy": "2025-02-01T16:48:03.55395Z",
          "iopub.execute_input": "2025-02-01T16:48:03.554274Z",
          "iopub.status.idle": "2025-02-01T16:48:03.558523Z",
          "shell.execute_reply.started": "2025-02-01T16:48:03.554252Z",
          "shell.execute_reply": "2025-02-01T16:48:03.557516Z"
        },
        "id": "s8h-_bc6bEqq"
      },
      "outputs": [],
      "execution_count": null
    },
    {
      "cell_type": "code",
      "source": [
        "array_b"
      ],
      "metadata": {
        "trusted": true,
        "execution": {
          "iopub.status.busy": "2025-02-01T16:48:05.780297Z",
          "iopub.execute_input": "2025-02-01T16:48:05.78066Z",
          "iopub.status.idle": "2025-02-01T16:48:05.78614Z",
          "shell.execute_reply.started": "2025-02-01T16:48:05.780627Z",
          "shell.execute_reply": "2025-02-01T16:48:05.785307Z"
        },
        "id": "k6j3WrFubEqr",
        "outputId": "20ea2343-3f77-4b9b-d0fb-602f2813d4ac"
      },
      "outputs": [
        {
          "execution_count": 10,
          "output_type": "execute_result",
          "data": {
            "text/plain": "['product', 'loan', '4000']"
          },
          "metadata": {}
        }
      ],
      "execution_count": null
    }
  ]
}